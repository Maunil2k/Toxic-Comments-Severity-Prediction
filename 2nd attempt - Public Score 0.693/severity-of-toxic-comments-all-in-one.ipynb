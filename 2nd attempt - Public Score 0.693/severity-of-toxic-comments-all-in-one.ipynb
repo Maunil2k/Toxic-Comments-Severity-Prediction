{
 "cells": [
  {
   "cell_type": "code",
   "execution_count": 1,
   "id": "1cadf669",
   "metadata": {
    "_cell_guid": "b1076dfc-b9ad-4769-8c92-a6c4dae69d19",
    "_uuid": "8f2839f25d086af736a60e9eeb907d3b93b6e0e5",
    "execution": {
     "iopub.execute_input": "2022-01-10T17:09:51.176196Z",
     "iopub.status.busy": "2022-01-10T17:09:51.174689Z",
     "iopub.status.idle": "2022-01-10T17:09:57.866226Z",
     "shell.execute_reply": "2022-01-10T17:09:57.865273Z",
     "shell.execute_reply.started": "2022-01-10T17:07:31.841017Z"
    },
    "papermill": {
     "duration": 6.714708,
     "end_time": "2022-01-10T17:09:57.866373",
     "exception": false,
     "start_time": "2022-01-10T17:09:51.151665",
     "status": "completed"
    },
    "tags": []
   },
   "outputs": [],
   "source": [
    "# Basic prerequisites\n",
    "import numpy as np\n",
    "import pandas as pd\n",
    "import os, re, unidecode, random, math\n",
    "from bs4 import BeautifulSoup\n",
    "from nltk.corpus import stopwords\n",
    "from nltk.tokenize import word_tokenize\n",
    "from imblearn.under_sampling import RandomUnderSampler\n",
    "from sklearn.model_selection import StratifiedKFold\n",
    "from sklearn.metrics import accuracy_score\n",
    "from tqdm import tqdm\n",
    "\n",
    "# Stuff related to model and its training\n",
    "import tensorflow as tf\n",
    "from tensorflow.keras.layers import Dense, Dropout, Embedding, LSTM, Bidirectional\n",
    "from tensorflow.keras.models import Sequential, Model, load_model\n",
    "from tensorflow.keras.preprocessing.sequence import pad_sequences\n",
    "from tensorflow.keras.preprocessing.text import Tokenizer\n",
    "from tensorflow.keras.optimizers import Adam\n",
    "from tensorflow.keras.callbacks import EarlyStopping, ModelCheckpoint, ReduceLROnPlateau"
   ]
  },
  {
   "cell_type": "code",
   "execution_count": 2,
   "id": "37b30d26",
   "metadata": {
    "execution": {
     "iopub.execute_input": "2022-01-10T17:09:57.898170Z",
     "iopub.status.busy": "2022-01-10T17:09:57.890521Z",
     "iopub.status.idle": "2022-01-10T17:09:57.900651Z",
     "shell.execute_reply": "2022-01-10T17:09:57.901227Z",
     "shell.execute_reply.started": "2022-01-10T17:07:38.170971Z"
    },
    "papermill": {
     "duration": 0.023722,
     "end_time": "2022-01-10T17:09:57.901400",
     "exception": false,
     "start_time": "2022-01-10T17:09:57.877678",
     "status": "completed"
    },
    "tags": []
   },
   "outputs": [
    {
     "name": "stdout",
     "output_type": "stream",
     "text": [
      "seeded everything to get same output\n"
     ]
    }
   ],
   "source": [
    "def data_cleaner(data):\n",
    "    data = data.replace('\\\\n', ' ').replace('\\n', ' ').replace('\\t',' ').replace('\\\\', ' ').replace('. com', '.com')\n",
    "    \n",
    "    soup = BeautifulSoup(data, 'html.parser')\n",
    "    data = soup.get_text(separator=' ')\n",
    "    \n",
    "    remove_http = re.sub(r'http\\S+', '', data)\n",
    "    data = re.sub(r\"\\ [A-Za-z]*\\.com\", \" \", remove_http)\n",
    "    \n",
    "    data = unidecode.unidecode(data)\n",
    "    data = data.lower()\n",
    "    data = re.sub(r\"[^a-zA-Z0-9:$-,()%.?!]+\", ' ', data) \n",
    "    data = re.sub(r\"[:$-,()%.?!]+\", ' ',data)\n",
    "    \n",
    "    stoplist = stopwords.words(\"english\")\n",
    "    data = [word for word in word_tokenize(data) if word not in stoplist]\n",
    "    data = \" \".join(data)\n",
    "    \n",
    "    return data\n",
    "\n",
    "def sigmoid(x):\n",
    "    return 1 / (1 + math.exp(-x))\n",
    "\n",
    "def seed_everything(SEED = 13):\n",
    "    np.random.seed(SEED)\n",
    "    random.seed(SEED)\n",
    "    tf.random.set_seed(SEED)\n",
    "    os.environ['TF_CPP_MIN_LOG_LEVEL'] = '2'\n",
    "    os.environ['PYTHONHASHSEED'] = str(SEED)\n",
    "    \n",
    "seed_everything()\n",
    "print('seeded everything to get same output')"
   ]
  },
  {
   "cell_type": "code",
   "execution_count": 3,
   "id": "41e3bedd",
   "metadata": {
    "execution": {
     "iopub.execute_input": "2022-01-10T17:09:57.928234Z",
     "iopub.status.busy": "2022-01-10T17:09:57.927665Z",
     "iopub.status.idle": "2022-01-10T17:10:00.271675Z",
     "shell.execute_reply": "2022-01-10T17:10:00.272175Z",
     "shell.execute_reply.started": "2022-01-10T17:07:38.183136Z"
    },
    "papermill": {
     "duration": 2.358973,
     "end_time": "2022-01-10T17:10:00.272331",
     "exception": false,
     "start_time": "2022-01-10T17:09:57.913358",
     "status": "completed"
    },
    "tags": []
   },
   "outputs": [
    {
     "data": {
      "text/html": [
       "<div>\n",
       "<style scoped>\n",
       "    .dataframe tbody tr th:only-of-type {\n",
       "        vertical-align: middle;\n",
       "    }\n",
       "\n",
       "    .dataframe tbody tr th {\n",
       "        vertical-align: top;\n",
       "    }\n",
       "\n",
       "    .dataframe thead th {\n",
       "        text-align: right;\n",
       "    }\n",
       "</style>\n",
       "<table border=\"1\" class=\"dataframe\">\n",
       "  <thead>\n",
       "    <tr style=\"text-align: right;\">\n",
       "      <th></th>\n",
       "      <th>id</th>\n",
       "      <th>comment_text</th>\n",
       "      <th>toxic</th>\n",
       "      <th>severe_toxic</th>\n",
       "      <th>obscene</th>\n",
       "      <th>threat</th>\n",
       "      <th>insult</th>\n",
       "      <th>identity_hate</th>\n",
       "    </tr>\n",
       "  </thead>\n",
       "  <tbody>\n",
       "    <tr>\n",
       "      <th>0</th>\n",
       "      <td>0000997932d777bf</td>\n",
       "      <td>Explanation\\nWhy the edits made under my usern...</td>\n",
       "      <td>0</td>\n",
       "      <td>0</td>\n",
       "      <td>0</td>\n",
       "      <td>0</td>\n",
       "      <td>0</td>\n",
       "      <td>0</td>\n",
       "    </tr>\n",
       "    <tr>\n",
       "      <th>1</th>\n",
       "      <td>000103f0d9cfb60f</td>\n",
       "      <td>D'aww! He matches this background colour I'm s...</td>\n",
       "      <td>0</td>\n",
       "      <td>0</td>\n",
       "      <td>0</td>\n",
       "      <td>0</td>\n",
       "      <td>0</td>\n",
       "      <td>0</td>\n",
       "    </tr>\n",
       "    <tr>\n",
       "      <th>2</th>\n",
       "      <td>000113f07ec002fd</td>\n",
       "      <td>Hey man, I'm really not trying to edit war. It...</td>\n",
       "      <td>0</td>\n",
       "      <td>0</td>\n",
       "      <td>0</td>\n",
       "      <td>0</td>\n",
       "      <td>0</td>\n",
       "      <td>0</td>\n",
       "    </tr>\n",
       "    <tr>\n",
       "      <th>3</th>\n",
       "      <td>0001b41b1c6bb37e</td>\n",
       "      <td>\"\\nMore\\nI can't make any real suggestions on ...</td>\n",
       "      <td>0</td>\n",
       "      <td>0</td>\n",
       "      <td>0</td>\n",
       "      <td>0</td>\n",
       "      <td>0</td>\n",
       "      <td>0</td>\n",
       "    </tr>\n",
       "    <tr>\n",
       "      <th>4</th>\n",
       "      <td>0001d958c54c6e35</td>\n",
       "      <td>You, sir, are my hero. Any chance you remember...</td>\n",
       "      <td>0</td>\n",
       "      <td>0</td>\n",
       "      <td>0</td>\n",
       "      <td>0</td>\n",
       "      <td>0</td>\n",
       "      <td>0</td>\n",
       "    </tr>\n",
       "  </tbody>\n",
       "</table>\n",
       "</div>"
      ],
      "text/plain": [
       "                 id                                       comment_text  toxic  \\\n",
       "0  0000997932d777bf  Explanation\\nWhy the edits made under my usern...      0   \n",
       "1  000103f0d9cfb60f  D'aww! He matches this background colour I'm s...      0   \n",
       "2  000113f07ec002fd  Hey man, I'm really not trying to edit war. It...      0   \n",
       "3  0001b41b1c6bb37e  \"\\nMore\\nI can't make any real suggestions on ...      0   \n",
       "4  0001d958c54c6e35  You, sir, are my hero. Any chance you remember...      0   \n",
       "\n",
       "   severe_toxic  obscene  threat  insult  identity_hate  \n",
       "0             0        0       0       0              0  \n",
       "1             0        0       0       0              0  \n",
       "2             0        0       0       0              0  \n",
       "3             0        0       0       0              0  \n",
       "4             0        0       0       0              0  "
      ]
     },
     "execution_count": 3,
     "metadata": {},
     "output_type": "execute_result"
    }
   ],
   "source": [
    "train_df = pd.read_csv('../input/toxic-comment/jigsaw-toxic-comment-train.csv')\n",
    "train_df.head()"
   ]
  },
  {
   "cell_type": "code",
   "execution_count": 4,
   "id": "e281d65f",
   "metadata": {
    "execution": {
     "iopub.execute_input": "2022-01-10T17:10:00.311528Z",
     "iopub.status.busy": "2022-01-10T17:10:00.298351Z",
     "iopub.status.idle": "2022-01-10T17:10:00.336567Z",
     "shell.execute_reply": "2022-01-10T17:10:00.337014Z",
     "shell.execute_reply.started": "2022-01-10T17:07:40.891377Z"
    },
    "papermill": {
     "duration": 0.053097,
     "end_time": "2022-01-10T17:10:00.337159",
     "exception": false,
     "start_time": "2022-01-10T17:10:00.284062",
     "status": "completed"
    },
    "tags": []
   },
   "outputs": [
    {
     "data": {
      "text/html": [
       "<div>\n",
       "<style scoped>\n",
       "    .dataframe tbody tr th:only-of-type {\n",
       "        vertical-align: middle;\n",
       "    }\n",
       "\n",
       "    .dataframe tbody tr th {\n",
       "        vertical-align: top;\n",
       "    }\n",
       "\n",
       "    .dataframe thead th {\n",
       "        text-align: right;\n",
       "    }\n",
       "</style>\n",
       "<table border=\"1\" class=\"dataframe\">\n",
       "  <thead>\n",
       "    <tr style=\"text-align: right;\">\n",
       "      <th></th>\n",
       "      <th>comment_text</th>\n",
       "      <th>y</th>\n",
       "    </tr>\n",
       "  </thead>\n",
       "  <tbody>\n",
       "    <tr>\n",
       "      <th>0</th>\n",
       "      <td>Explanation\\nWhy the edits made under my usern...</td>\n",
       "      <td>0</td>\n",
       "    </tr>\n",
       "    <tr>\n",
       "      <th>1</th>\n",
       "      <td>D'aww! He matches this background colour I'm s...</td>\n",
       "      <td>0</td>\n",
       "    </tr>\n",
       "    <tr>\n",
       "      <th>2</th>\n",
       "      <td>Hey man, I'm really not trying to edit war. It...</td>\n",
       "      <td>0</td>\n",
       "    </tr>\n",
       "    <tr>\n",
       "      <th>3</th>\n",
       "      <td>\"\\nMore\\nI can't make any real suggestions on ...</td>\n",
       "      <td>0</td>\n",
       "    </tr>\n",
       "    <tr>\n",
       "      <th>4</th>\n",
       "      <td>You, sir, are my hero. Any chance you remember...</td>\n",
       "      <td>0</td>\n",
       "    </tr>\n",
       "  </tbody>\n",
       "</table>\n",
       "</div>"
      ],
      "text/plain": [
       "                                        comment_text  y\n",
       "0  Explanation\\nWhy the edits made under my usern...  0\n",
       "1  D'aww! He matches this background colour I'm s...  0\n",
       "2  Hey man, I'm really not trying to edit war. It...  0\n",
       "3  \"\\nMore\\nI can't make any real suggestions on ...  0\n",
       "4  You, sir, are my hero. Any chance you remember...  0"
      ]
     },
     "execution_count": 4,
     "metadata": {},
     "output_type": "execute_result"
    }
   ],
   "source": [
    "train_df[\"y\"] = (train_df[[\"toxic\", \"severe_toxic\", \"obscene\", \"threat\", \"insult\", \"identity_hate\"]].sum(axis=1) > 0).astype(int)\n",
    "train_df.drop([\"id\",\"toxic\", \"severe_toxic\", \"obscene\", \"threat\", \"insult\", \"identity_hate\"], axis=1, inplace = True)\n",
    "train_df.head()"
   ]
  },
  {
   "cell_type": "code",
   "execution_count": 5,
   "id": "397fcee8",
   "metadata": {
    "execution": {
     "iopub.execute_input": "2022-01-10T17:10:00.365531Z",
     "iopub.status.busy": "2022-01-10T17:10:00.365018Z",
     "iopub.status.idle": "2022-01-10T17:10:00.368232Z",
     "shell.execute_reply": "2022-01-10T17:10:00.368624Z",
     "shell.execute_reply.started": "2022-01-10T17:07:40.941969Z"
    },
    "papermill": {
     "duration": 0.019717,
     "end_time": "2022-01-10T17:10:00.368754",
     "exception": false,
     "start_time": "2022-01-10T17:10:00.349037",
     "status": "completed"
    },
    "tags": []
   },
   "outputs": [
    {
     "data": {
      "text/plain": [
       "(223549, 2)"
      ]
     },
     "execution_count": 5,
     "metadata": {},
     "output_type": "execute_result"
    }
   ],
   "source": [
    "train_df.shape"
   ]
  },
  {
   "cell_type": "code",
   "execution_count": 6,
   "id": "07d04b33",
   "metadata": {
    "execution": {
     "iopub.execute_input": "2022-01-10T17:10:00.410077Z",
     "iopub.status.busy": "2022-01-10T17:10:00.409344Z",
     "iopub.status.idle": "2022-01-10T17:10:00.690890Z",
     "shell.execute_reply": "2022-01-10T17:10:00.691396Z",
     "shell.execute_reply.started": "2022-01-10T17:07:40.950166Z"
    },
    "papermill": {
     "duration": 0.311203,
     "end_time": "2022-01-10T17:10:00.691556",
     "exception": false,
     "start_time": "2022-01-10T17:10:00.380353",
     "status": "completed"
    },
    "tags": []
   },
   "outputs": [
    {
     "data": {
      "text/plain": [
       "(223549, 2)"
      ]
     },
     "execution_count": 6,
     "metadata": {},
     "output_type": "execute_result"
    }
   ],
   "source": [
    "train_df.drop_duplicates(subset=['comment_text'],keep='first',inplace=True)\n",
    "train_df.shape"
   ]
  },
  {
   "cell_type": "code",
   "execution_count": 7,
   "id": "3976bfc7",
   "metadata": {
    "execution": {
     "iopub.execute_input": "2022-01-10T17:10:00.724610Z",
     "iopub.status.busy": "2022-01-10T17:10:00.720900Z",
     "iopub.status.idle": "2022-01-10T17:10:00.822934Z",
     "shell.execute_reply": "2022-01-10T17:10:00.823352Z",
     "shell.execute_reply.started": "2022-01-10T17:07:41.257487Z"
    },
    "papermill": {
     "duration": 0.119718,
     "end_time": "2022-01-10T17:10:00.823501",
     "exception": false,
     "start_time": "2022-01-10T17:10:00.703783",
     "status": "completed"
    },
    "tags": []
   },
   "outputs": [
    {
     "data": {
      "text/plain": [
       "0    22468\n",
       "1    22468\n",
       "Name: target, dtype: int64"
      ]
     },
     "execution_count": 7,
     "metadata": {},
     "output_type": "execute_result"
    }
   ],
   "source": [
    "X = np.array(train_df[\"comment_text\"].values)\n",
    "X = X.reshape(-1,1)\n",
    "y = np.array(train_df[\"y\"].values)\n",
    "rus = RandomUnderSampler(random_state=0)\n",
    "train, target = rus.fit_resample(X, y)\n",
    "\n",
    "train = train.flatten()\n",
    "train_df = pd.DataFrame()\n",
    "train_df[\"text\"] = train\n",
    "train_df[\"target\"] = target\n",
    "\n",
    "# Now its balanced\n",
    "train_df[\"target\"].value_counts()"
   ]
  },
  {
   "cell_type": "code",
   "execution_count": 8,
   "id": "8ad859bb",
   "metadata": {
    "execution": {
     "iopub.execute_input": "2022-01-10T17:10:00.852901Z",
     "iopub.status.busy": "2022-01-10T17:10:00.852301Z",
     "iopub.status.idle": "2022-01-10T17:10:48.573476Z",
     "shell.execute_reply": "2022-01-10T17:10:48.573971Z",
     "shell.execute_reply.started": "2022-01-10T17:07:41.365248Z"
    },
    "papermill": {
     "duration": 47.738255,
     "end_time": "2022-01-10T17:10:48.574143",
     "exception": false,
     "start_time": "2022-01-10T17:10:00.835888",
     "status": "completed"
    },
    "tags": []
   },
   "outputs": [
    {
     "name": "stderr",
     "output_type": "stream",
     "text": [
      "100%|██████████| 44936/44936 [00:47<00:00, 942.22it/s]\n"
     ]
    },
    {
     "data": {
      "text/html": [
       "<div>\n",
       "<style scoped>\n",
       "    .dataframe tbody tr th:only-of-type {\n",
       "        vertical-align: middle;\n",
       "    }\n",
       "\n",
       "    .dataframe tbody tr th {\n",
       "        vertical-align: top;\n",
       "    }\n",
       "\n",
       "    .dataframe thead th {\n",
       "        text-align: right;\n",
       "    }\n",
       "</style>\n",
       "<table border=\"1\" class=\"dataframe\">\n",
       "  <thead>\n",
       "    <tr style=\"text-align: right;\">\n",
       "      <th></th>\n",
       "      <th>text</th>\n",
       "      <th>target</th>\n",
       "    </tr>\n",
       "  </thead>\n",
       "  <tbody>\n",
       "    <tr>\n",
       "      <th>0</th>\n",
       "      <td>tyrrell head nutcase</td>\n",
       "      <td>0</td>\n",
       "    </tr>\n",
       "    <tr>\n",
       "      <th>1</th>\n",
       "      <td>sockpuppet template give comment made laugh pu...</td>\n",
       "      <td>0</td>\n",
       "    </tr>\n",
       "    <tr>\n",
       "      <th>2</th>\n",
       "      <td>similar arguments made local cultural traditio...</td>\n",
       "      <td>0</td>\n",
       "    </tr>\n",
       "    <tr>\n",
       "      <th>3</th>\n",
       "      <td>invitation take part study wikipedian studying...</td>\n",
       "      <td>0</td>\n",
       "    </tr>\n",
       "    <tr>\n",
       "      <th>4</th>\n",
       "      <td>hier hast du du bloder affe</td>\n",
       "      <td>0</td>\n",
       "    </tr>\n",
       "  </tbody>\n",
       "</table>\n",
       "</div>"
      ],
      "text/plain": [
       "                                                text  target\n",
       "0                               tyrrell head nutcase       0\n",
       "1  sockpuppet template give comment made laugh pu...       0\n",
       "2  similar arguments made local cultural traditio...       0\n",
       "3  invitation take part study wikipedian studying...       0\n",
       "4                        hier hast du du bloder affe       0"
      ]
     },
     "execution_count": 8,
     "metadata": {},
     "output_type": "execute_result"
    }
   ],
   "source": [
    "train_df['text'] = [data_cleaner(train_df['text'][i]) for i in tqdm(range(train_df.shape[0]))]\n",
    "train_df.head()"
   ]
  },
  {
   "cell_type": "code",
   "execution_count": 9,
   "id": "52963bb3",
   "metadata": {
    "execution": {
     "iopub.execute_input": "2022-01-10T17:10:48.824054Z",
     "iopub.status.busy": "2022-01-10T17:10:48.823463Z",
     "iopub.status.idle": "2022-01-10T17:10:48.847297Z",
     "shell.execute_reply": "2022-01-10T17:10:48.846538Z",
     "shell.execute_reply.started": "2022-01-10T17:08:28.784696Z"
    },
    "papermill": {
     "duration": 0.149731,
     "end_time": "2022-01-10T17:10:48.847425",
     "exception": false,
     "start_time": "2022-01-10T17:10:48.697694",
     "status": "completed"
    },
    "tags": []
   },
   "outputs": [],
   "source": [
    "from tensorflow.keras import backend as K\n",
    "def ALReLU(x):\n",
    "    alpha = 0.01\n",
    "    return K.minimum(K.abs(alpha * x), x)\n",
    "\n",
    "from tensorflow.keras.utils import get_custom_objects\n",
    "get_custom_objects().update({'ALReLU': tf.keras.layers.Activation(ALReLU)})"
   ]
  },
  {
   "cell_type": "code",
   "execution_count": 10,
   "id": "31539f72",
   "metadata": {
    "execution": {
     "iopub.execute_input": "2022-01-10T17:10:51.050580Z",
     "iopub.status.busy": "2022-01-10T17:10:49.097360Z",
     "iopub.status.idle": "2022-01-10T17:10:52.697130Z",
     "shell.execute_reply": "2022-01-10T17:10:52.697514Z",
     "shell.execute_reply.started": "2022-01-10T17:08:28.814750Z"
    },
    "papermill": {
     "duration": 3.729283,
     "end_time": "2022-01-10T17:10:52.697692",
     "exception": false,
     "start_time": "2022-01-10T17:10:48.968409",
     "status": "completed"
    },
    "tags": []
   },
   "outputs": [
    {
     "name": "stdout",
     "output_type": "stream",
     "text": [
      "Model: \"sequential\"\n",
      "_________________________________________________________________\n",
      "Layer (type)                 Output Shape              Param #   \n",
      "=================================================================\n",
      "embedding (Embedding)        (None, 300, 128)          6400000   \n",
      "_________________________________________________________________\n",
      "lstm (LSTM)                  (None, 300, 512)          1312768   \n",
      "_________________________________________________________________\n",
      "dropout (Dropout)            (None, 300, 512)          0         \n",
      "_________________________________________________________________\n",
      "lstm_1 (LSTM)                (None, 300, 256)          787456    \n",
      "_________________________________________________________________\n",
      "dropout_1 (Dropout)          (None, 300, 256)          0         \n",
      "_________________________________________________________________\n",
      "lstm_2 (LSTM)                (None, 300, 128)          197120    \n",
      "_________________________________________________________________\n",
      "dropout_2 (Dropout)          (None, 300, 128)          0         \n",
      "_________________________________________________________________\n",
      "lstm_3 (LSTM)                (None, 300, 64)           49408     \n",
      "_________________________________________________________________\n",
      "dropout_3 (Dropout)          (None, 300, 64)           0         \n",
      "_________________________________________________________________\n",
      "lstm_4 (LSTM)                (None, 32)                12416     \n",
      "_________________________________________________________________\n",
      "dropout_4 (Dropout)          (None, 32)                0         \n",
      "_________________________________________________________________\n",
      "dense (Dense)                (None, 16)                528       \n",
      "_________________________________________________________________\n",
      "dropout_5 (Dropout)          (None, 16)                0         \n",
      "_________________________________________________________________\n",
      "dense_1 (Dense)              (None, 1)                 17        \n",
      "=================================================================\n",
      "Total params: 8,759,713\n",
      "Trainable params: 8,759,713\n",
      "Non-trainable params: 0\n",
      "_________________________________________________________________\n"
     ]
    }
   ],
   "source": [
    "model = Sequential()\n",
    "model.add(Embedding(50000, 128, input_length = 300))\n",
    "model.add(LSTM(512, return_sequences = True))\n",
    "model.add(Dropout(0.1))\n",
    "model.add(LSTM(256, return_sequences = True))\n",
    "model.add(Dropout(0.1))\n",
    "model.add(LSTM(128, return_sequences = True))\n",
    "model.add(Dropout(0.1))\n",
    "model.add(LSTM(64, return_sequences = True))\n",
    "model.add(Dropout(0.1))\n",
    "model.add(LSTM(32, return_sequences = False))\n",
    "model.add(Dropout(0.2))\n",
    "model.add(Dense(16, activation = ALReLU))\n",
    "model.add(Dropout(0.25))\n",
    "model.add(Dense(1, activation = 'sigmoid'))\n",
    "\n",
    "model.summary()"
   ]
  },
  {
   "cell_type": "code",
   "execution_count": 11,
   "id": "fdfd1e1f",
   "metadata": {
    "execution": {
     "iopub.execute_input": "2022-01-10T17:10:52.983771Z",
     "iopub.status.busy": "2022-01-10T17:10:52.978699Z",
     "iopub.status.idle": "2022-01-10T17:10:56.048098Z",
     "shell.execute_reply": "2022-01-10T17:10:56.047425Z",
     "shell.execute_reply.started": "2022-01-10T17:08:32.516804Z"
    },
    "papermill": {
     "duration": 3.228474,
     "end_time": "2022-01-10T17:10:56.048283",
     "exception": false,
     "start_time": "2022-01-10T17:10:52.819809",
     "status": "completed"
    },
    "tags": []
   },
   "outputs": [
    {
     "name": "stdout",
     "output_type": "stream",
     "text": [
      "generated pad sequences\n"
     ]
    }
   ],
   "source": [
    "# Preprocessing\n",
    "text = train_df['text']\n",
    "tokenizer = Tokenizer(num_words=50000)\n",
    "tokenizer.fit_on_texts(text.values)\n",
    "x_train = tokenizer.texts_to_sequences(text.values)\n",
    "x_train = pad_sequences(x_train, maxlen=300)\n",
    "print('generated pad sequences')"
   ]
  },
  {
   "cell_type": "code",
   "execution_count": 12,
   "id": "47b36690",
   "metadata": {
    "execution": {
     "iopub.execute_input": "2022-01-10T17:10:56.466790Z",
     "iopub.status.busy": "2022-01-10T17:10:56.464105Z",
     "iopub.status.idle": "2022-01-10T17:20:30.349826Z",
     "shell.execute_reply": "2022-01-10T17:20:30.349332Z"
    },
    "papermill": {
     "duration": 574.098786,
     "end_time": "2022-01-10T17:20:30.349978",
     "exception": false,
     "start_time": "2022-01-10T17:10:56.251192",
     "status": "completed"
    },
    "tags": []
   },
   "outputs": [
    {
     "name": "stdout",
     "output_type": "stream",
     "text": [
      "Epoch 1/100\n",
      "36/36 [==============================] - 42s 956ms/step - loss: 0.6782 - auc: 0.4927 - val_loss: 1.0063 - val_auc: 0.0000e+00\n",
      "Epoch 2/100\n",
      "36/36 [==============================] - 33s 916ms/step - loss: 0.6665 - auc: 0.4947 - val_loss: 0.9585 - val_auc: 0.0000e+00\n",
      "Epoch 3/100\n",
      "36/36 [==============================] - 33s 918ms/step - loss: 0.6602 - auc: 0.5374 - val_loss: 0.8527 - val_auc: 0.0000e+00\n",
      "Epoch 4/100\n",
      "36/36 [==============================] - 33s 919ms/step - loss: 0.6531 - auc: 0.5795 - val_loss: 0.8598 - val_auc: 0.0000e+00\n",
      "Epoch 5/100\n",
      "36/36 [==============================] - 33s 919ms/step - loss: 0.6404 - auc: 0.6164 - val_loss: 0.8590 - val_auc: 0.0000e+00\n",
      "Epoch 6/100\n",
      "36/36 [==============================] - 33s 920ms/step - loss: 0.5909 - auc: 0.7147 - val_loss: 0.7552 - val_auc: 0.0000e+00\n",
      "Epoch 7/100\n",
      "36/36 [==============================] - 33s 919ms/step - loss: 0.5172 - auc: 0.8074 - val_loss: 0.6761 - val_auc: 0.0000e+00\n",
      "Epoch 8/100\n",
      "36/36 [==============================] - 33s 920ms/step - loss: 0.4673 - auc: 0.8505 - val_loss: 0.8421 - val_auc: 0.0000e+00\n",
      "Epoch 9/100\n",
      "36/36 [==============================] - 33s 921ms/step - loss: 0.4147 - auc: 0.8872 - val_loss: 0.6532 - val_auc: 0.0000e+00\n",
      "Epoch 10/100\n",
      "36/36 [==============================] - 33s 920ms/step - loss: 0.3647 - auc: 0.9146 - val_loss: 0.4707 - val_auc: 0.0000e+00\n",
      "Epoch 11/100\n",
      "36/36 [==============================] - 33s 920ms/step - loss: 0.3268 - auc: 0.9323 - val_loss: 0.7595 - val_auc: 0.0000e+00\n",
      "Epoch 12/100\n",
      "36/36 [==============================] - 33s 921ms/step - loss: 0.2915 - auc: 0.9452 - val_loss: 0.4181 - val_auc: 0.0000e+00\n",
      "Epoch 13/100\n",
      "36/36 [==============================] - 33s 921ms/step - loss: 0.2617 - auc: 0.9554 - val_loss: 0.4921 - val_auc: 0.0000e+00\n",
      "Epoch 14/100\n",
      "36/36 [==============================] - 33s 920ms/step - loss: 0.2419 - auc: 0.9616 - val_loss: 0.5838 - val_auc: 0.0000e+00\n",
      "Epoch 15/100\n",
      "36/36 [==============================] - 33s 920ms/step - loss: 0.2129 - auc: 0.9687 - val_loss: 0.6931 - val_auc: 0.0000e+00\n",
      "Epoch 16/100\n",
      "36/36 [==============================] - 33s 922ms/step - loss: 0.1954 - auc: 0.9731 - val_loss: 0.5792 - val_auc: 0.0000e+00\n",
      "Epoch 17/100\n",
      "36/36 [==============================] - 33s 921ms/step - loss: 0.1884 - auc: 0.9745 - val_loss: 0.6090 - val_auc: 0.0000e+00\n"
     ]
    }
   ],
   "source": [
    "y_train = train_df['target']\n",
    "model.compile(\n",
    "    optimizer=Adam(learning_rate=0.0001),\n",
    "    loss='binary_crossentropy',\n",
    "    metrics=['AUC']\n",
    ")\n",
    "\n",
    "lr = ReduceLROnPlateau(\n",
    "    monitor='val_loss',\n",
    "    factor=0.25,\n",
    "    patience=3,\n",
    "    verbose=0,\n",
    "    mode='min'\n",
    ")\n",
    "\n",
    "chk_point = ModelCheckpoint(\n",
    "    '/kaggle/working/best_model.h5',\n",
    "    monitor='val_loss',\n",
    "    verbose=0,\n",
    "    save_best_only=True,\n",
    "    mode='min'\n",
    ")\n",
    "\n",
    "es = EarlyStopping(\n",
    "    patience=5,\n",
    "    min_delta=0,\n",
    "    monitor='val_loss',\n",
    "    restore_best_weights=True,\n",
    "    verbose=0,\n",
    "    mode='min',\n",
    "    baseline=None\n",
    ")\n",
    "\n",
    "history = model.fit(\n",
    "    x_train, y_train,\n",
    "    validation_split=0.2,\n",
    "    batch_size=1024,\n",
    "    epochs = 100,\n",
    "    callbacks=[es,lr,chk_point],\n",
    "    shuffle=True,\n",
    "    verbose=1\n",
    ")"
   ]
  },
  {
   "cell_type": "code",
   "execution_count": 13,
   "id": "4b3dd3f5",
   "metadata": {
    "execution": {
     "iopub.execute_input": "2022-01-10T17:20:30.927159Z",
     "iopub.status.busy": "2022-01-10T17:20:30.926400Z",
     "iopub.status.idle": "2022-01-10T17:21:47.372668Z",
     "shell.execute_reply": "2022-01-10T17:21:47.371634Z"
    },
    "papermill": {
     "duration": 76.740227,
     "end_time": "2022-01-10T17:21:47.372867",
     "exception": false,
     "start_time": "2022-01-10T17:20:30.632640",
     "status": "completed"
    },
    "tags": []
   },
   "outputs": [
    {
     "name": "stderr",
     "output_type": "stream",
     "text": [
      "100%|██████████| 7537/7537 [01:02<00:00, 120.96it/s]\n"
     ]
    }
   ],
   "source": [
    "test_cur_comp = '../input/jigsaw-toxic-severity-rating/comments_to_score.csv'\n",
    "test = pd.read_csv(test_cur_comp)\n",
    "test[\"text\"] = [data_cleaner(test[\"text\"][i]) for i in tqdm(range(test.shape[0]))]\n",
    "x_test = tokenizer.texts_to_sequences(test[\"text\"].values)\n",
    "x_test = pad_sequences(x_test, maxlen = 300)\n",
    "model = load_model('./best_model.h5')\n",
    "pred = model.predict(x_test)\n",
    "pred = [sigmoid(x) * 100 for x in pred]"
   ]
  },
  {
   "cell_type": "code",
   "execution_count": 14,
   "id": "7d49a671",
   "metadata": {
    "execution": {
     "iopub.execute_input": "2022-01-10T17:21:48.170615Z",
     "iopub.status.busy": "2022-01-10T17:21:48.168306Z",
     "iopub.status.idle": "2022-01-10T17:21:48.240393Z",
     "shell.execute_reply": "2022-01-10T17:21:48.241201Z"
    },
    "papermill": {
     "duration": 0.519899,
     "end_time": "2022-01-10T17:21:48.241404",
     "exception": false,
     "start_time": "2022-01-10T17:21:47.721505",
     "status": "completed"
    },
    "tags": []
   },
   "outputs": [
    {
     "data": {
      "text/html": [
       "<div>\n",
       "<style scoped>\n",
       "    .dataframe tbody tr th:only-of-type {\n",
       "        vertical-align: middle;\n",
       "    }\n",
       "\n",
       "    .dataframe tbody tr th {\n",
       "        vertical-align: top;\n",
       "    }\n",
       "\n",
       "    .dataframe thead th {\n",
       "        text-align: right;\n",
       "    }\n",
       "</style>\n",
       "<table border=\"1\" class=\"dataframe\">\n",
       "  <thead>\n",
       "    <tr style=\"text-align: right;\">\n",
       "      <th></th>\n",
       "      <th>comment_id</th>\n",
       "      <th>score</th>\n",
       "    </tr>\n",
       "  </thead>\n",
       "  <tbody>\n",
       "    <tr>\n",
       "      <th>0</th>\n",
       "      <td>114890</td>\n",
       "      <td>50.549551</td>\n",
       "    </tr>\n",
       "    <tr>\n",
       "      <th>1</th>\n",
       "      <td>732895</td>\n",
       "      <td>53.680058</td>\n",
       "    </tr>\n",
       "    <tr>\n",
       "      <th>2</th>\n",
       "      <td>1139051</td>\n",
       "      <td>50.828817</td>\n",
       "    </tr>\n",
       "    <tr>\n",
       "      <th>3</th>\n",
       "      <td>1434512</td>\n",
       "      <td>71.383711</td>\n",
       "    </tr>\n",
       "    <tr>\n",
       "      <th>4</th>\n",
       "      <td>2084821</td>\n",
       "      <td>71.864304</td>\n",
       "    </tr>\n",
       "  </tbody>\n",
       "</table>\n",
       "</div>"
      ],
      "text/plain": [
       "   comment_id      score\n",
       "0      114890  50.549551\n",
       "1      732895  53.680058\n",
       "2     1139051  50.828817\n",
       "3     1434512  71.383711\n",
       "4     2084821  71.864304"
      ]
     },
     "execution_count": 14,
     "metadata": {},
     "output_type": "execute_result"
    }
   ],
   "source": [
    "final = pd.DataFrame()\n",
    "final[\"comment_id\"] = test[\"comment_id\"]\n",
    "final[\"score\"] = pred\n",
    "final.to_csv(\"submission.csv\", index=False)\n",
    "final.head()"
   ]
  },
  {
   "cell_type": "code",
   "execution_count": null,
   "id": "1c26c712",
   "metadata": {
    "papermill": {
     "duration": 0.363277,
     "end_time": "2022-01-10T17:21:49.092194",
     "exception": false,
     "start_time": "2022-01-10T17:21:48.728917",
     "status": "completed"
    },
    "tags": []
   },
   "outputs": [],
   "source": []
  }
 ],
 "metadata": {
  "kernelspec": {
   "display_name": "Python 3",
   "language": "python",
   "name": "python3"
  },
  "language_info": {
   "codemirror_mode": {
    "name": "ipython",
    "version": 3
   },
   "file_extension": ".py",
   "mimetype": "text/x-python",
   "name": "python",
   "nbconvert_exporter": "python",
   "pygments_lexer": "ipython3",
   "version": "3.7.12"
  },
  "papermill": {
   "default_parameters": {},
   "duration": 729.736655,
   "end_time": "2022-01-10T17:21:52.884037",
   "environment_variables": {},
   "exception": null,
   "input_path": "__notebook__.ipynb",
   "output_path": "__notebook__.ipynb",
   "parameters": {},
   "start_time": "2022-01-10T17:09:43.147382",
   "version": "2.3.3"
  }
 },
 "nbformat": 4,
 "nbformat_minor": 5
}
