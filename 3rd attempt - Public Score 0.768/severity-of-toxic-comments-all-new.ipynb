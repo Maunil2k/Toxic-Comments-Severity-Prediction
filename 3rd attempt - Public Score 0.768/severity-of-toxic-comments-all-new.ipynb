{
 "cells": [
  {
   "cell_type": "code",
   "execution_count": 1,
   "id": "0f84ff5f",
   "metadata": {
    "_cell_guid": "b1076dfc-b9ad-4769-8c92-a6c4dae69d19",
    "_uuid": "8f2839f25d086af736a60e9eeb907d3b93b6e0e5",
    "execution": {
     "iopub.execute_input": "2022-01-11T04:53:22.084317Z",
     "iopub.status.busy": "2022-01-11T04:53:22.082332Z",
     "iopub.status.idle": "2022-01-11T04:53:29.889617Z",
     "shell.execute_reply": "2022-01-11T04:53:29.890413Z",
     "shell.execute_reply.started": "2022-01-11T04:47:44.864072Z"
    },
    "papermill": {
     "duration": 7.82941,
     "end_time": "2022-01-11T04:53:29.890858",
     "exception": false,
     "start_time": "2022-01-11T04:53:22.061448",
     "status": "completed"
    },
    "tags": []
   },
   "outputs": [],
   "source": [
    "# Basic prerequisites\n",
    "import numpy as np\n",
    "import pandas as pd\n",
    "import os, re, unidecode, random, math\n",
    "from bs4 import BeautifulSoup\n",
    "from nltk.corpus import stopwords\n",
    "from nltk.tokenize import word_tokenize\n",
    "from imblearn.under_sampling import RandomUnderSampler\n",
    "from sklearn.model_selection import StratifiedKFold\n",
    "from sklearn.metrics import accuracy_score\n",
    "from tqdm import tqdm\n",
    "\n",
    "# Stuff related to model and its training\n",
    "import tensorflow as tf\n",
    "from tensorflow.keras.layers import Dense, Dropout, Embedding, LSTM, Bidirectional\n",
    "from tensorflow.keras.models import Sequential, Model, load_model\n",
    "from tensorflow.keras.preprocessing.sequence import pad_sequences\n",
    "from tensorflow.keras.preprocessing.text import Tokenizer\n",
    "from tensorflow.keras.optimizers import Adam\n",
    "from tensorflow.keras.callbacks import EarlyStopping, ModelCheckpoint, ReduceLROnPlateau"
   ]
  },
  {
   "cell_type": "code",
   "execution_count": 2,
   "id": "7f20fae5",
   "metadata": {
    "execution": {
     "iopub.execute_input": "2022-01-11T04:53:29.945383Z",
     "iopub.status.busy": "2022-01-11T04:53:29.944383Z",
     "iopub.status.idle": "2022-01-11T04:53:29.958956Z",
     "shell.execute_reply": "2022-01-11T04:53:29.960175Z",
     "shell.execute_reply.started": "2022-01-11T04:47:51.322890Z"
    },
    "papermill": {
     "duration": 0.046484,
     "end_time": "2022-01-11T04:53:29.960425",
     "exception": false,
     "start_time": "2022-01-11T04:53:29.913941",
     "status": "completed"
    },
    "tags": []
   },
   "outputs": [
    {
     "name": "stdout",
     "output_type": "stream",
     "text": [
      "seeded everything to get same output\n"
     ]
    }
   ],
   "source": [
    "def data_cleaner(data):\n",
    "    data = data.replace('\\\\n', ' ').replace('\\n', ' ').replace('\\t',' ').replace('\\\\', ' ').replace('. com', '.com')\n",
    "    \n",
    "    soup = BeautifulSoup(data, 'html.parser')\n",
    "    data = soup.get_text(separator=' ')\n",
    "    \n",
    "    remove_http = re.sub(r'http\\S+', '', data)\n",
    "    data = re.sub(r\"\\ [A-Za-z]*\\.com\", \" \", remove_http)\n",
    "    \n",
    "    data = unidecode.unidecode(data)\n",
    "    data = data.lower()\n",
    "    data = re.sub(r\"[^a-zA-Z0-9:$-,()%.?!]+\", ' ', data) \n",
    "    data = re.sub(r\"[:$-,()%.?!]+\", ' ',data)\n",
    "    \n",
    "    stoplist = stopwords.words(\"english\")\n",
    "    data = [word for word in word_tokenize(data) if word not in stoplist]\n",
    "    data = \" \".join(data)\n",
    "    \n",
    "    return data\n",
    "\n",
    "def sigmoid(x):\n",
    "    return 1 / (1 + math.exp(-x))\n",
    "\n",
    "def seed_everything(SEED = 13):\n",
    "    np.random.seed(SEED)\n",
    "    random.seed(SEED)\n",
    "    tf.random.set_seed(SEED)\n",
    "    os.environ['TF_CPP_MIN_LOG_LEVEL'] = '2'\n",
    "    os.environ['PYTHONHASHSEED'] = str(SEED)\n",
    "    \n",
    "seed_everything()\n",
    "print('seeded everything to get same output')"
   ]
  },
  {
   "cell_type": "code",
   "execution_count": 3,
   "id": "5ba05ff9",
   "metadata": {
    "execution": {
     "iopub.execute_input": "2022-01-11T04:53:30.011331Z",
     "iopub.status.busy": "2022-01-11T04:53:30.010327Z",
     "iopub.status.idle": "2022-01-11T04:53:32.345981Z",
     "shell.execute_reply": "2022-01-11T04:53:32.345442Z",
     "shell.execute_reply.started": "2022-01-11T04:47:51.339516Z"
    },
    "papermill": {
     "duration": 2.362845,
     "end_time": "2022-01-11T04:53:32.346119",
     "exception": false,
     "start_time": "2022-01-11T04:53:29.983274",
     "status": "completed"
    },
    "tags": []
   },
   "outputs": [
    {
     "data": {
      "text/html": [
       "<div>\n",
       "<style scoped>\n",
       "    .dataframe tbody tr th:only-of-type {\n",
       "        vertical-align: middle;\n",
       "    }\n",
       "\n",
       "    .dataframe tbody tr th {\n",
       "        vertical-align: top;\n",
       "    }\n",
       "\n",
       "    .dataframe thead th {\n",
       "        text-align: right;\n",
       "    }\n",
       "</style>\n",
       "<table border=\"1\" class=\"dataframe\">\n",
       "  <thead>\n",
       "    <tr style=\"text-align: right;\">\n",
       "      <th></th>\n",
       "      <th>id</th>\n",
       "      <th>comment_text</th>\n",
       "      <th>toxic</th>\n",
       "      <th>severe_toxic</th>\n",
       "      <th>obscene</th>\n",
       "      <th>threat</th>\n",
       "      <th>insult</th>\n",
       "      <th>identity_hate</th>\n",
       "    </tr>\n",
       "  </thead>\n",
       "  <tbody>\n",
       "    <tr>\n",
       "      <th>0</th>\n",
       "      <td>0000997932d777bf</td>\n",
       "      <td>Explanation\\nWhy the edits made under my usern...</td>\n",
       "      <td>0</td>\n",
       "      <td>0</td>\n",
       "      <td>0</td>\n",
       "      <td>0</td>\n",
       "      <td>0</td>\n",
       "      <td>0</td>\n",
       "    </tr>\n",
       "    <tr>\n",
       "      <th>1</th>\n",
       "      <td>000103f0d9cfb60f</td>\n",
       "      <td>D'aww! He matches this background colour I'm s...</td>\n",
       "      <td>0</td>\n",
       "      <td>0</td>\n",
       "      <td>0</td>\n",
       "      <td>0</td>\n",
       "      <td>0</td>\n",
       "      <td>0</td>\n",
       "    </tr>\n",
       "    <tr>\n",
       "      <th>2</th>\n",
       "      <td>000113f07ec002fd</td>\n",
       "      <td>Hey man, I'm really not trying to edit war. It...</td>\n",
       "      <td>0</td>\n",
       "      <td>0</td>\n",
       "      <td>0</td>\n",
       "      <td>0</td>\n",
       "      <td>0</td>\n",
       "      <td>0</td>\n",
       "    </tr>\n",
       "    <tr>\n",
       "      <th>3</th>\n",
       "      <td>0001b41b1c6bb37e</td>\n",
       "      <td>\"\\nMore\\nI can't make any real suggestions on ...</td>\n",
       "      <td>0</td>\n",
       "      <td>0</td>\n",
       "      <td>0</td>\n",
       "      <td>0</td>\n",
       "      <td>0</td>\n",
       "      <td>0</td>\n",
       "    </tr>\n",
       "    <tr>\n",
       "      <th>4</th>\n",
       "      <td>0001d958c54c6e35</td>\n",
       "      <td>You, sir, are my hero. Any chance you remember...</td>\n",
       "      <td>0</td>\n",
       "      <td>0</td>\n",
       "      <td>0</td>\n",
       "      <td>0</td>\n",
       "      <td>0</td>\n",
       "      <td>0</td>\n",
       "    </tr>\n",
       "  </tbody>\n",
       "</table>\n",
       "</div>"
      ],
      "text/plain": [
       "                 id                                       comment_text  toxic  \\\n",
       "0  0000997932d777bf  Explanation\\nWhy the edits made under my usern...      0   \n",
       "1  000103f0d9cfb60f  D'aww! He matches this background colour I'm s...      0   \n",
       "2  000113f07ec002fd  Hey man, I'm really not trying to edit war. It...      0   \n",
       "3  0001b41b1c6bb37e  \"\\nMore\\nI can't make any real suggestions on ...      0   \n",
       "4  0001d958c54c6e35  You, sir, are my hero. Any chance you remember...      0   \n",
       "\n",
       "   severe_toxic  obscene  threat  insult  identity_hate  \n",
       "0             0        0       0       0              0  \n",
       "1             0        0       0       0              0  \n",
       "2             0        0       0       0              0  \n",
       "3             0        0       0       0              0  \n",
       "4             0        0       0       0              0  "
      ]
     },
     "execution_count": 3,
     "metadata": {},
     "output_type": "execute_result"
    }
   ],
   "source": [
    "train_df = pd.read_csv('../input/toxic-comment/jigsaw-toxic-comment-train.csv')\n",
    "train_df.head()"
   ]
  },
  {
   "cell_type": "code",
   "execution_count": 4,
   "id": "b31bc559",
   "metadata": {
    "execution": {
     "iopub.execute_input": "2022-01-11T04:53:32.384596Z",
     "iopub.status.busy": "2022-01-11T04:53:32.383773Z",
     "iopub.status.idle": "2022-01-11T04:53:32.422874Z",
     "shell.execute_reply": "2022-01-11T04:53:32.423442Z",
     "shell.execute_reply.started": "2022-01-11T04:47:53.683650Z"
    },
    "papermill": {
     "duration": 0.062645,
     "end_time": "2022-01-11T04:53:32.423621",
     "exception": false,
     "start_time": "2022-01-11T04:53:32.360976",
     "status": "completed"
    },
    "tags": []
   },
   "outputs": [
    {
     "data": {
      "text/html": [
       "<div>\n",
       "<style scoped>\n",
       "    .dataframe tbody tr th:only-of-type {\n",
       "        vertical-align: middle;\n",
       "    }\n",
       "\n",
       "    .dataframe tbody tr th {\n",
       "        vertical-align: top;\n",
       "    }\n",
       "\n",
       "    .dataframe thead th {\n",
       "        text-align: right;\n",
       "    }\n",
       "</style>\n",
       "<table border=\"1\" class=\"dataframe\">\n",
       "  <thead>\n",
       "    <tr style=\"text-align: right;\">\n",
       "      <th></th>\n",
       "      <th>comment_text</th>\n",
       "      <th>y</th>\n",
       "    </tr>\n",
       "  </thead>\n",
       "  <tbody>\n",
       "    <tr>\n",
       "      <th>0</th>\n",
       "      <td>Explanation\\nWhy the edits made under my usern...</td>\n",
       "      <td>0</td>\n",
       "    </tr>\n",
       "    <tr>\n",
       "      <th>1</th>\n",
       "      <td>D'aww! He matches this background colour I'm s...</td>\n",
       "      <td>0</td>\n",
       "    </tr>\n",
       "    <tr>\n",
       "      <th>2</th>\n",
       "      <td>Hey man, I'm really not trying to edit war. It...</td>\n",
       "      <td>0</td>\n",
       "    </tr>\n",
       "    <tr>\n",
       "      <th>3</th>\n",
       "      <td>\"\\nMore\\nI can't make any real suggestions on ...</td>\n",
       "      <td>0</td>\n",
       "    </tr>\n",
       "    <tr>\n",
       "      <th>4</th>\n",
       "      <td>You, sir, are my hero. Any chance you remember...</td>\n",
       "      <td>0</td>\n",
       "    </tr>\n",
       "  </tbody>\n",
       "</table>\n",
       "</div>"
      ],
      "text/plain": [
       "                                        comment_text  y\n",
       "0  Explanation\\nWhy the edits made under my usern...  0\n",
       "1  D'aww! He matches this background colour I'm s...  0\n",
       "2  Hey man, I'm really not trying to edit war. It...  0\n",
       "3  \"\\nMore\\nI can't make any real suggestions on ...  0\n",
       "4  You, sir, are my hero. Any chance you remember...  0"
      ]
     },
     "execution_count": 4,
     "metadata": {},
     "output_type": "execute_result"
    }
   ],
   "source": [
    "train_df[\"y\"] = (train_df[[\"toxic\", \"severe_toxic\", \"obscene\", \"threat\", \"insult\", \"identity_hate\"]].sum(axis=1) > 0).astype(int)\n",
    "train_df.drop([\"id\",\"toxic\", \"severe_toxic\", \"obscene\", \"threat\", \"insult\", \"identity_hate\"], axis=1, inplace = True)\n",
    "train_df.head()"
   ]
  },
  {
   "cell_type": "code",
   "execution_count": 5,
   "id": "3872c3ef",
   "metadata": {
    "execution": {
     "iopub.execute_input": "2022-01-11T04:53:32.460942Z",
     "iopub.status.busy": "2022-01-11T04:53:32.459960Z",
     "iopub.status.idle": "2022-01-11T04:53:32.463600Z",
     "shell.execute_reply": "2022-01-11T04:53:32.464124Z",
     "shell.execute_reply.started": "2022-01-11T04:47:53.723169Z"
    },
    "papermill": {
     "duration": 0.025025,
     "end_time": "2022-01-11T04:53:32.464318",
     "exception": false,
     "start_time": "2022-01-11T04:53:32.439293",
     "status": "completed"
    },
    "tags": []
   },
   "outputs": [
    {
     "data": {
      "text/plain": [
       "(223549, 2)"
      ]
     },
     "execution_count": 5,
     "metadata": {},
     "output_type": "execute_result"
    }
   ],
   "source": [
    "train_df.shape"
   ]
  },
  {
   "cell_type": "code",
   "execution_count": 6,
   "id": "248d464e",
   "metadata": {
    "execution": {
     "iopub.execute_input": "2022-01-11T04:53:32.499033Z",
     "iopub.status.busy": "2022-01-11T04:53:32.497968Z",
     "iopub.status.idle": "2022-01-11T04:53:32.846673Z",
     "shell.execute_reply": "2022-01-11T04:53:32.846085Z",
     "shell.execute_reply.started": "2022-01-11T04:47:53.732014Z"
    },
    "papermill": {
     "duration": 0.366955,
     "end_time": "2022-01-11T04:53:32.846836",
     "exception": false,
     "start_time": "2022-01-11T04:53:32.479881",
     "status": "completed"
    },
    "tags": []
   },
   "outputs": [
    {
     "data": {
      "text/plain": [
       "(223549, 2)"
      ]
     },
     "execution_count": 6,
     "metadata": {},
     "output_type": "execute_result"
    }
   ],
   "source": [
    "train_df.drop_duplicates(subset=['comment_text'],keep='first',inplace=True)\n",
    "train_df.shape"
   ]
  },
  {
   "cell_type": "code",
   "execution_count": 7,
   "id": "e4b4889e",
   "metadata": {
    "execution": {
     "iopub.execute_input": "2022-01-11T04:53:32.890434Z",
     "iopub.status.busy": "2022-01-11T04:53:32.889417Z",
     "iopub.status.idle": "2022-01-11T04:53:32.987026Z",
     "shell.execute_reply": "2022-01-11T04:53:32.987640Z",
     "shell.execute_reply.started": "2022-01-11T04:47:54.034933Z"
    },
    "papermill": {
     "duration": 0.125195,
     "end_time": "2022-01-11T04:53:32.987853",
     "exception": false,
     "start_time": "2022-01-11T04:53:32.862658",
     "status": "completed"
    },
    "tags": []
   },
   "outputs": [
    {
     "data": {
      "text/plain": [
       "0    22468\n",
       "1    22468\n",
       "Name: target, dtype: int64"
      ]
     },
     "execution_count": 7,
     "metadata": {},
     "output_type": "execute_result"
    }
   ],
   "source": [
    "X = np.array(train_df[\"comment_text\"].values)\n",
    "X = X.reshape(-1,1)\n",
    "y = np.array(train_df[\"y\"].values)\n",
    "rus = RandomUnderSampler(random_state=0)\n",
    "train, target = rus.fit_resample(X, y)\n",
    "\n",
    "train = train.flatten()\n",
    "train_df = pd.DataFrame()\n",
    "train_df[\"text\"] = train\n",
    "train_df[\"target\"] = target\n",
    "\n",
    "# Now its balanced\n",
    "train_df[\"target\"].value_counts()"
   ]
  },
  {
   "cell_type": "code",
   "execution_count": 8,
   "id": "4bea2e03",
   "metadata": {
    "execution": {
     "iopub.execute_input": "2022-01-11T04:53:33.026049Z",
     "iopub.status.busy": "2022-01-11T04:53:33.025043Z",
     "iopub.status.idle": "2022-01-11T04:54:26.781199Z",
     "shell.execute_reply": "2022-01-11T04:54:26.780652Z",
     "shell.execute_reply.started": "2022-01-11T04:47:54.140665Z"
    },
    "papermill": {
     "duration": 53.777265,
     "end_time": "2022-01-11T04:54:26.781438",
     "exception": false,
     "start_time": "2022-01-11T04:53:33.004173",
     "status": "completed"
    },
    "tags": []
   },
   "outputs": [
    {
     "name": "stderr",
     "output_type": "stream",
     "text": [
      "100%|██████████| 44936/44936 [00:53<00:00, 836.31it/s]\n"
     ]
    },
    {
     "data": {
      "text/html": [
       "<div>\n",
       "<style scoped>\n",
       "    .dataframe tbody tr th:only-of-type {\n",
       "        vertical-align: middle;\n",
       "    }\n",
       "\n",
       "    .dataframe tbody tr th {\n",
       "        vertical-align: top;\n",
       "    }\n",
       "\n",
       "    .dataframe thead th {\n",
       "        text-align: right;\n",
       "    }\n",
       "</style>\n",
       "<table border=\"1\" class=\"dataframe\">\n",
       "  <thead>\n",
       "    <tr style=\"text-align: right;\">\n",
       "      <th></th>\n",
       "      <th>text</th>\n",
       "      <th>target</th>\n",
       "    </tr>\n",
       "  </thead>\n",
       "  <tbody>\n",
       "    <tr>\n",
       "      <th>0</th>\n",
       "      <td>tyrrell head nutcase</td>\n",
       "      <td>0</td>\n",
       "    </tr>\n",
       "    <tr>\n",
       "      <th>1</th>\n",
       "      <td>sockpuppet template give comment made laugh pu...</td>\n",
       "      <td>0</td>\n",
       "    </tr>\n",
       "    <tr>\n",
       "      <th>2</th>\n",
       "      <td>similar arguments made local cultural traditio...</td>\n",
       "      <td>0</td>\n",
       "    </tr>\n",
       "    <tr>\n",
       "      <th>3</th>\n",
       "      <td>invitation take part study wikipedian studying...</td>\n",
       "      <td>0</td>\n",
       "    </tr>\n",
       "    <tr>\n",
       "      <th>4</th>\n",
       "      <td>hier hast du du bloder affe</td>\n",
       "      <td>0</td>\n",
       "    </tr>\n",
       "  </tbody>\n",
       "</table>\n",
       "</div>"
      ],
      "text/plain": [
       "                                                text  target\n",
       "0                               tyrrell head nutcase       0\n",
       "1  sockpuppet template give comment made laugh pu...       0\n",
       "2  similar arguments made local cultural traditio...       0\n",
       "3  invitation take part study wikipedian studying...       0\n",
       "4                        hier hast du du bloder affe       0"
      ]
     },
     "execution_count": 8,
     "metadata": {},
     "output_type": "execute_result"
    }
   ],
   "source": [
    "train_df['text'] = [data_cleaner(train_df['text'][i]) for i in tqdm(range(train_df.shape[0]))]\n",
    "train_df.head()"
   ]
  },
  {
   "cell_type": "code",
   "execution_count": 9,
   "id": "df5642af",
   "metadata": {
    "execution": {
     "iopub.execute_input": "2022-01-11T04:54:27.135640Z",
     "iopub.status.busy": "2022-01-11T04:54:27.132363Z",
     "iopub.status.idle": "2022-01-11T04:54:27.163453Z",
     "shell.execute_reply": "2022-01-11T04:54:27.162534Z",
     "shell.execute_reply.started": "2022-01-11T04:48:43.108880Z"
    },
    "papermill": {
     "duration": 0.208268,
     "end_time": "2022-01-11T04:54:27.163594",
     "exception": false,
     "start_time": "2022-01-11T04:54:26.955326",
     "status": "completed"
    },
    "tags": []
   },
   "outputs": [],
   "source": [
    "from tensorflow.keras import backend as K\n",
    "def ALReLU(x):\n",
    "    alpha = 0.01\n",
    "    return K.minimum(K.abs(alpha * x), x)\n",
    "\n",
    "from tensorflow.keras.utils import get_custom_objects\n",
    "get_custom_objects().update({'ALReLU': tf.keras.layers.Activation(ALReLU)})"
   ]
  },
  {
   "cell_type": "code",
   "execution_count": 10,
   "id": "47a7fd4a",
   "metadata": {
    "execution": {
     "iopub.execute_input": "2022-01-11T04:54:30.464347Z",
     "iopub.status.busy": "2022-01-11T04:54:27.726380Z",
     "iopub.status.idle": "2022-01-11T04:54:31.868186Z",
     "shell.execute_reply": "2022-01-11T04:54:31.869022Z",
     "shell.execute_reply.started": "2022-01-11T04:48:43.189082Z"
    },
    "papermill": {
     "duration": 4.519861,
     "end_time": "2022-01-11T04:54:31.869334",
     "exception": false,
     "start_time": "2022-01-11T04:54:27.349473",
     "status": "completed"
    },
    "tags": []
   },
   "outputs": [
    {
     "name": "stdout",
     "output_type": "stream",
     "text": [
      "Model: \"sequential\"\n",
      "_________________________________________________________________\n",
      "Layer (type)                 Output Shape              Param #   \n",
      "=================================================================\n",
      "embedding (Embedding)        (None, 300, 128)          6400000   \n",
      "_________________________________________________________________\n",
      "lstm (LSTM)                  (None, 300, 256)          394240    \n",
      "_________________________________________________________________\n",
      "dropout (Dropout)            (None, 300, 256)          0         \n",
      "_________________________________________________________________\n",
      "lstm_1 (LSTM)                (None, 300, 128)          197120    \n",
      "_________________________________________________________________\n",
      "dropout_1 (Dropout)          (None, 300, 128)          0         \n",
      "_________________________________________________________________\n",
      "lstm_2 (LSTM)                (None, 300, 64)           49408     \n",
      "_________________________________________________________________\n",
      "dropout_2 (Dropout)          (None, 300, 64)           0         \n",
      "_________________________________________________________________\n",
      "lstm_3 (LSTM)                (None, 32)                12416     \n",
      "_________________________________________________________________\n",
      "dropout_3 (Dropout)          (None, 32)                0         \n",
      "_________________________________________________________________\n",
      "dense (Dense)                (None, 16)                528       \n",
      "_________________________________________________________________\n",
      "dropout_4 (Dropout)          (None, 16)                0         \n",
      "_________________________________________________________________\n",
      "dense_1 (Dense)              (None, 1)                 17        \n",
      "=================================================================\n",
      "Total params: 7,053,729\n",
      "Trainable params: 7,053,729\n",
      "Non-trainable params: 0\n",
      "_________________________________________________________________\n"
     ]
    }
   ],
   "source": [
    "model = Sequential()\n",
    "model.add(Embedding(50000, 128, input_length = 300))\n",
    "#model.add(LSTM(512, return_sequences = True))\n",
    "#model.add(Dropout(0.1))\n",
    "model.add(LSTM(256, return_sequences = True))\n",
    "model.add(Dropout(0.1))\n",
    "model.add(LSTM(128, return_sequences = True))\n",
    "model.add(Dropout(0.1))\n",
    "model.add(LSTM(64, return_sequences = True))\n",
    "model.add(Dropout(0.1))\n",
    "model.add(LSTM(32, return_sequences = False))\n",
    "model.add(Dropout(0.2))\n",
    "model.add(Dense(16, activation = ALReLU))\n",
    "model.add(Dropout(0.25))\n",
    "model.add(Dense(1, activation = 'sigmoid'))\n",
    "\n",
    "model.summary()"
   ]
  },
  {
   "cell_type": "code",
   "execution_count": 11,
   "id": "8e768cf2",
   "metadata": {
    "execution": {
     "iopub.execute_input": "2022-01-11T04:54:32.240388Z",
     "iopub.status.busy": "2022-01-11T04:54:32.239306Z",
     "iopub.status.idle": "2022-01-11T04:54:36.190705Z",
     "shell.execute_reply": "2022-01-11T04:54:36.192037Z",
     "shell.execute_reply.started": "2022-01-11T04:48:46.497456Z"
    },
    "papermill": {
     "duration": 4.145368,
     "end_time": "2022-01-11T04:54:36.192320",
     "exception": false,
     "start_time": "2022-01-11T04:54:32.046952",
     "status": "completed"
    },
    "tags": []
   },
   "outputs": [
    {
     "name": "stdout",
     "output_type": "stream",
     "text": [
      "generated pad sequences\n"
     ]
    }
   ],
   "source": [
    "# Preprocessing\n",
    "text = train_df['text']\n",
    "tokenizer = Tokenizer(num_words=50000)\n",
    "tokenizer.fit_on_texts(text.values)\n",
    "x_train = tokenizer.texts_to_sequences(text.values)\n",
    "x_train = pad_sequences(x_train, maxlen=300)\n",
    "print('generated pad sequences')"
   ]
  },
  {
   "cell_type": "code",
   "execution_count": 12,
   "id": "7a1de66e",
   "metadata": {
    "execution": {
     "iopub.execute_input": "2022-01-11T04:54:36.567439Z",
     "iopub.status.busy": "2022-01-11T04:54:36.566317Z",
     "iopub.status.idle": "2022-01-11T04:57:34.753732Z",
     "shell.execute_reply": "2022-01-11T04:57:34.752767Z",
     "shell.execute_reply.started": "2022-01-11T04:48:49.484284Z"
    },
    "papermill": {
     "duration": 178.378634,
     "end_time": "2022-01-11T04:57:34.753885",
     "exception": false,
     "start_time": "2022-01-11T04:54:36.375251",
     "status": "completed"
    },
    "tags": []
   },
   "outputs": [
    {
     "name": "stdout",
     "output_type": "stream",
     "text": [
      "Epoch 1/100\n",
      "36/36 [==============================] - 24s 427ms/step - loss: 0.6840 - auc: 0.4836 - Accuracy: 0.6095 - val_loss: 0.9443 - val_auc: 0.0000e+00 - val_Accuracy: 7.7882e-04\n",
      "Epoch 2/100\n",
      "36/36 [==============================] - 14s 385ms/step - loss: 0.6659 - auc: 0.5110 - Accuracy: 0.6205 - val_loss: 0.9022 - val_auc: 0.0000e+00 - val_Accuracy: 0.0023\n",
      "Epoch 3/100\n",
      "36/36 [==============================] - 14s 383ms/step - loss: 0.6531 - auc: 0.5797 - Accuracy: 0.6233 - val_loss: 0.8240 - val_auc: 0.0000e+00 - val_Accuracy: 0.2161\n",
      "Epoch 4/100\n",
      "36/36 [==============================] - 14s 385ms/step - loss: 0.6360 - auc: 0.6286 - Accuracy: 0.6314 - val_loss: 1.0383 - val_auc: 0.0000e+00 - val_Accuracy: 0.0445\n",
      "Epoch 5/100\n",
      "36/36 [==============================] - 14s 385ms/step - loss: 0.5759 - auc: 0.7476 - Accuracy: 0.6817 - val_loss: 0.9732 - val_auc: 0.0000e+00 - val_Accuracy: 0.1451\n",
      "Epoch 6/100\n",
      "36/36 [==============================] - 14s 385ms/step - loss: 0.5070 - auc: 0.8199 - Accuracy: 0.7436 - val_loss: 0.7812 - val_auc: 0.0000e+00 - val_Accuracy: 0.2924\n",
      "Epoch 7/100\n",
      "36/36 [==============================] - 14s 386ms/step - loss: 0.4358 - auc: 0.8769 - Accuracy: 0.7998 - val_loss: 0.4166 - val_auc: 0.0000e+00 - val_Accuracy: 0.9053\n",
      "Epoch 8/100\n",
      "36/36 [==============================] - 14s 387ms/step - loss: 0.3887 - auc: 0.9045 - Accuracy: 0.8276 - val_loss: 0.7281 - val_auc: 0.0000e+00 - val_Accuracy: 0.4964\n",
      "Epoch 9/100\n",
      "36/36 [==============================] - 14s 387ms/step - loss: 0.3469 - auc: 0.9235 - Accuracy: 0.8493 - val_loss: 0.5019 - val_auc: 0.0000e+00 - val_Accuracy: 0.8561\n",
      "Epoch 10/100\n",
      "36/36 [==============================] - 14s 387ms/step - loss: 0.3115 - auc: 0.9390 - Accuracy: 0.8716 - val_loss: 0.4880 - val_auc: 0.0000e+00 - val_Accuracy: 0.8558\n",
      "Epoch 11/100\n",
      "36/36 [==============================] - 14s 386ms/step - loss: 0.2845 - auc: 0.9491 - Accuracy: 0.8879 - val_loss: 0.5924 - val_auc: 0.0000e+00 - val_Accuracy: 0.7067\n",
      "Epoch 12/100\n",
      "36/36 [==============================] - 14s 387ms/step - loss: 0.2758 - auc: 0.9519 - Accuracy: 0.8920 - val_loss: 0.5516 - val_auc: 0.0000e+00 - val_Accuracy: 0.8042\n"
     ]
    }
   ],
   "source": [
    "y_train = train_df['target']\n",
    "model.compile(\n",
    "    optimizer=Adam(learning_rate=0.0001),\n",
    "    loss='binary_crossentropy',\n",
    "    metrics=['AUC','Accuracy']\n",
    ")\n",
    "\n",
    "lr = ReduceLROnPlateau(\n",
    "    monitor='val_loss',\n",
    "    factor=0.25,\n",
    "    patience=3,\n",
    "    verbose=0,\n",
    "    mode='min'\n",
    ")\n",
    "\n",
    "chk_point = ModelCheckpoint(\n",
    "    '/kaggle/working/best_model.h5',\n",
    "    monitor='val_loss',\n",
    "    verbose=0,\n",
    "    save_best_only=True,\n",
    "    mode='min'\n",
    ")\n",
    "\n",
    "es = EarlyStopping(\n",
    "    patience=5,\n",
    "    min_delta=0,\n",
    "    monitor='val_loss',\n",
    "    restore_best_weights=True,\n",
    "    verbose=0,\n",
    "    mode='min',\n",
    "    baseline=None\n",
    ")\n",
    "\n",
    "history = model.fit(\n",
    "    x_train, y_train,\n",
    "    validation_split=0.2,\n",
    "    batch_size=1024,\n",
    "    epochs = 100,\n",
    "    callbacks=[es,lr,chk_point],\n",
    "    shuffle=True,\n",
    "    verbose=1\n",
    ")"
   ]
  },
  {
   "cell_type": "code",
   "execution_count": 13,
   "id": "4b13a0de",
   "metadata": {
    "execution": {
     "iopub.execute_input": "2022-01-11T04:57:35.614743Z",
     "iopub.status.busy": "2022-01-11T04:57:35.613737Z",
     "iopub.status.idle": "2022-01-11T04:57:54.702950Z",
     "shell.execute_reply": "2022-01-11T04:57:54.702089Z",
     "shell.execute_reply.started": "2022-01-11T04:51:43.979487Z"
    },
    "papermill": {
     "duration": 19.629657,
     "end_time": "2022-01-11T04:57:54.703120",
     "exception": false,
     "start_time": "2022-01-11T04:57:35.073463",
     "status": "completed"
    },
    "tags": []
   },
   "outputs": [
    {
     "name": "stderr",
     "output_type": "stream",
     "text": [
      "100%|██████████| 7537/7537 [00:09<00:00, 827.71it/s]\n"
     ]
    }
   ],
   "source": [
    "test_cur_comp = '../input/jigsaw-toxic-severity-rating/comments_to_score.csv'\n",
    "test = pd.read_csv(test_cur_comp)\n",
    "test[\"text\"] = [data_cleaner(test[\"text\"][i]) for i in tqdm(range(test.shape[0]))]\n",
    "x_test = tokenizer.texts_to_sequences(test[\"text\"].values)\n",
    "x_test = pad_sequences(x_test, maxlen = 300)\n",
    "model = load_model('./best_model.h5')\n",
    "pred = model.predict(x_test)\n",
    "pred = [sigmoid(x) * 100 for x in pred]"
   ]
  },
  {
   "cell_type": "code",
   "execution_count": 14,
   "id": "98069b9a",
   "metadata": {
    "execution": {
     "iopub.execute_input": "2022-01-11T04:57:55.415364Z",
     "iopub.status.busy": "2022-01-11T04:57:55.413962Z",
     "iopub.status.idle": "2022-01-11T04:57:55.453871Z",
     "shell.execute_reply": "2022-01-11T04:57:55.453279Z",
     "shell.execute_reply.started": "2022-01-11T04:52:37.558804Z"
    },
    "papermill": {
     "duration": 0.403242,
     "end_time": "2022-01-11T04:57:55.454018",
     "exception": false,
     "start_time": "2022-01-11T04:57:55.050776",
     "status": "completed"
    },
    "tags": []
   },
   "outputs": [
    {
     "data": {
      "text/html": [
       "<div>\n",
       "<style scoped>\n",
       "    .dataframe tbody tr th:only-of-type {\n",
       "        vertical-align: middle;\n",
       "    }\n",
       "\n",
       "    .dataframe tbody tr th {\n",
       "        vertical-align: top;\n",
       "    }\n",
       "\n",
       "    .dataframe thead th {\n",
       "        text-align: right;\n",
       "    }\n",
       "</style>\n",
       "<table border=\"1\" class=\"dataframe\">\n",
       "  <thead>\n",
       "    <tr style=\"text-align: right;\">\n",
       "      <th></th>\n",
       "      <th>comment_id</th>\n",
       "      <th>score</th>\n",
       "    </tr>\n",
       "  </thead>\n",
       "  <tbody>\n",
       "    <tr>\n",
       "      <th>0</th>\n",
       "      <td>114890</td>\n",
       "      <td>51.059955</td>\n",
       "    </tr>\n",
       "    <tr>\n",
       "      <th>1</th>\n",
       "      <td>732895</td>\n",
       "      <td>65.101535</td>\n",
       "    </tr>\n",
       "    <tr>\n",
       "      <th>2</th>\n",
       "      <td>1139051</td>\n",
       "      <td>51.437312</td>\n",
       "    </tr>\n",
       "    <tr>\n",
       "      <th>3</th>\n",
       "      <td>1434512</td>\n",
       "      <td>58.691049</td>\n",
       "    </tr>\n",
       "    <tr>\n",
       "      <th>4</th>\n",
       "      <td>2084821</td>\n",
       "      <td>67.579543</td>\n",
       "    </tr>\n",
       "  </tbody>\n",
       "</table>\n",
       "</div>"
      ],
      "text/plain": [
       "   comment_id      score\n",
       "0      114890  51.059955\n",
       "1      732895  65.101535\n",
       "2     1139051  51.437312\n",
       "3     1434512  58.691049\n",
       "4     2084821  67.579543"
      ]
     },
     "execution_count": 14,
     "metadata": {},
     "output_type": "execute_result"
    }
   ],
   "source": [
    "final = pd.DataFrame()\n",
    "final[\"comment_id\"] = test[\"comment_id\"]\n",
    "final[\"score\"] = pred\n",
    "final.to_csv(\"submission.csv\", index=False)\n",
    "final.head()"
   ]
  },
  {
   "cell_type": "code",
   "execution_count": null,
   "id": "69e2c1f5",
   "metadata": {
    "papermill": {
     "duration": 0.351259,
     "end_time": "2022-01-11T04:57:56.165293",
     "exception": false,
     "start_time": "2022-01-11T04:57:55.814034",
     "status": "completed"
    },
    "tags": []
   },
   "outputs": [],
   "source": []
  }
 ],
 "metadata": {
  "kernelspec": {
   "display_name": "Python 3",
   "language": "python",
   "name": "python3"
  },
  "language_info": {
   "codemirror_mode": {
    "name": "ipython",
    "version": 3
   },
   "file_extension": ".py",
   "mimetype": "text/x-python",
   "name": "python",
   "nbconvert_exporter": "python",
   "pygments_lexer": "ipython3",
   "version": "3.7.12"
  },
  "papermill": {
   "default_parameters": {},
   "duration": 287.863723,
   "end_time": "2022-01-11T04:58:00.106195",
   "environment_variables": {},
   "exception": null,
   "input_path": "__notebook__.ipynb",
   "output_path": "__notebook__.ipynb",
   "parameters": {},
   "start_time": "2022-01-11T04:53:12.242472",
   "version": "2.3.3"
  }
 },
 "nbformat": 4,
 "nbformat_minor": 5
}
