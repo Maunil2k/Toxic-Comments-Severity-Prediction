{
 "cells": [
  {
   "cell_type": "code",
   "execution_count": 1,
   "id": "8b6b1242",
   "metadata": {
    "_cell_guid": "2122f835-5df7-4a77-821d-985909283ad2",
    "_uuid": "57420215-7da4-4f82-9245-035daa6a4452",
    "collapsed": false,
    "execution": {
     "iopub.execute_input": "2021-12-28T17:39:30.122818Z",
     "iopub.status.busy": "2021-12-28T17:39:30.120435Z",
     "iopub.status.idle": "2021-12-28T17:39:32.263882Z",
     "shell.execute_reply": "2021-12-28T17:39:32.264474Z",
     "shell.execute_reply.started": "2021-12-28T17:34:37.557777Z"
    },
    "jupyter": {
     "outputs_hidden": false
    },
    "papermill": {
     "duration": 2.171565,
     "end_time": "2021-12-28T17:39:32.264964",
     "exception": false,
     "start_time": "2021-12-28T17:39:30.093399",
     "status": "completed"
    },
    "tags": []
   },
   "outputs": [
    {
     "data": {
      "text/html": [
       "<div>\n",
       "<style scoped>\n",
       "    .dataframe tbody tr th:only-of-type {\n",
       "        vertical-align: middle;\n",
       "    }\n",
       "\n",
       "    .dataframe tbody tr th {\n",
       "        vertical-align: top;\n",
       "    }\n",
       "\n",
       "    .dataframe thead th {\n",
       "        text-align: right;\n",
       "    }\n",
       "</style>\n",
       "<table border=\"1\" class=\"dataframe\">\n",
       "  <thead>\n",
       "    <tr style=\"text-align: right;\">\n",
       "      <th></th>\n",
       "      <th>id</th>\n",
       "      <th>comment_text</th>\n",
       "      <th>toxic</th>\n",
       "      <th>severe_toxic</th>\n",
       "      <th>obscene</th>\n",
       "      <th>threat</th>\n",
       "      <th>insult</th>\n",
       "      <th>identity_hate</th>\n",
       "    </tr>\n",
       "  </thead>\n",
       "  <tbody>\n",
       "    <tr>\n",
       "      <th>0</th>\n",
       "      <td>0000997932d777bf</td>\n",
       "      <td>Explanation\\nWhy the edits made under my usern...</td>\n",
       "      <td>0</td>\n",
       "      <td>0</td>\n",
       "      <td>0</td>\n",
       "      <td>0</td>\n",
       "      <td>0</td>\n",
       "      <td>0</td>\n",
       "    </tr>\n",
       "    <tr>\n",
       "      <th>1</th>\n",
       "      <td>000103f0d9cfb60f</td>\n",
       "      <td>D'aww! He matches this background colour I'm s...</td>\n",
       "      <td>0</td>\n",
       "      <td>0</td>\n",
       "      <td>0</td>\n",
       "      <td>0</td>\n",
       "      <td>0</td>\n",
       "      <td>0</td>\n",
       "    </tr>\n",
       "    <tr>\n",
       "      <th>2</th>\n",
       "      <td>000113f07ec002fd</td>\n",
       "      <td>Hey man, I'm really not trying to edit war. It...</td>\n",
       "      <td>0</td>\n",
       "      <td>0</td>\n",
       "      <td>0</td>\n",
       "      <td>0</td>\n",
       "      <td>0</td>\n",
       "      <td>0</td>\n",
       "    </tr>\n",
       "    <tr>\n",
       "      <th>3</th>\n",
       "      <td>0001b41b1c6bb37e</td>\n",
       "      <td>\"\\nMore\\nI can't make any real suggestions on ...</td>\n",
       "      <td>0</td>\n",
       "      <td>0</td>\n",
       "      <td>0</td>\n",
       "      <td>0</td>\n",
       "      <td>0</td>\n",
       "      <td>0</td>\n",
       "    </tr>\n",
       "    <tr>\n",
       "      <th>4</th>\n",
       "      <td>0001d958c54c6e35</td>\n",
       "      <td>You, sir, are my hero. Any chance you remember...</td>\n",
       "      <td>0</td>\n",
       "      <td>0</td>\n",
       "      <td>0</td>\n",
       "      <td>0</td>\n",
       "      <td>0</td>\n",
       "      <td>0</td>\n",
       "    </tr>\n",
       "  </tbody>\n",
       "</table>\n",
       "</div>"
      ],
      "text/plain": [
       "                 id                                       comment_text  toxic  \\\n",
       "0  0000997932d777bf  Explanation\\nWhy the edits made under my usern...      0   \n",
       "1  000103f0d9cfb60f  D'aww! He matches this background colour I'm s...      0   \n",
       "2  000113f07ec002fd  Hey man, I'm really not trying to edit war. It...      0   \n",
       "3  0001b41b1c6bb37e  \"\\nMore\\nI can't make any real suggestions on ...      0   \n",
       "4  0001d958c54c6e35  You, sir, are my hero. Any chance you remember...      0   \n",
       "\n",
       "   severe_toxic  obscene  threat  insult  identity_hate  \n",
       "0             0        0       0       0              0  \n",
       "1             0        0       0       0              0  \n",
       "2             0        0       0       0              0  \n",
       "3             0        0       0       0              0  \n",
       "4             0        0       0       0              0  "
      ]
     },
     "execution_count": 1,
     "metadata": {},
     "output_type": "execute_result"
    }
   ],
   "source": [
    "import numpy as np, pandas as pd, os\n",
    "from tqdm import tqdm\n",
    "df_toxic_comments = pd.read_csv('../input/jigsaw-toxic-comment-classification-challenge/train.csv')\n",
    "df_toxic_comments.head()"
   ]
  },
  {
   "cell_type": "code",
   "execution_count": 2,
   "id": "0a271aea",
   "metadata": {
    "execution": {
     "iopub.execute_input": "2021-12-28T17:39:32.319370Z",
     "iopub.status.busy": "2021-12-28T17:39:32.318575Z",
     "iopub.status.idle": "2021-12-28T17:39:32.344404Z",
     "shell.execute_reply": "2021-12-28T17:39:32.343832Z",
     "shell.execute_reply.started": "2021-12-28T17:34:39.669904Z"
    },
    "papermill": {
     "duration": 0.055385,
     "end_time": "2021-12-28T17:39:32.344587",
     "exception": false,
     "start_time": "2021-12-28T17:39:32.289202",
     "status": "completed"
    },
    "tags": []
   },
   "outputs": [
    {
     "data": {
      "text/html": [
       "<div>\n",
       "<style scoped>\n",
       "    .dataframe tbody tr th:only-of-type {\n",
       "        vertical-align: middle;\n",
       "    }\n",
       "\n",
       "    .dataframe tbody tr th {\n",
       "        vertical-align: top;\n",
       "    }\n",
       "\n",
       "    .dataframe thead th {\n",
       "        text-align: right;\n",
       "    }\n",
       "</style>\n",
       "<table border=\"1\" class=\"dataframe\">\n",
       "  <thead>\n",
       "    <tr style=\"text-align: right;\">\n",
       "      <th></th>\n",
       "      <th>id</th>\n",
       "      <th>comment_text</th>\n",
       "      <th>toxic</th>\n",
       "      <th>severe_toxic</th>\n",
       "      <th>obscene</th>\n",
       "      <th>threat</th>\n",
       "      <th>insult</th>\n",
       "      <th>identity_hate</th>\n",
       "      <th>targets</th>\n",
       "    </tr>\n",
       "  </thead>\n",
       "  <tbody>\n",
       "    <tr>\n",
       "      <th>0</th>\n",
       "      <td>0000997932d777bf</td>\n",
       "      <td>Explanation\\nWhy the edits made under my usern...</td>\n",
       "      <td>0</td>\n",
       "      <td>0</td>\n",
       "      <td>0</td>\n",
       "      <td>0</td>\n",
       "      <td>0</td>\n",
       "      <td>0</td>\n",
       "      <td>0</td>\n",
       "    </tr>\n",
       "    <tr>\n",
       "      <th>1</th>\n",
       "      <td>000103f0d9cfb60f</td>\n",
       "      <td>D'aww! He matches this background colour I'm s...</td>\n",
       "      <td>0</td>\n",
       "      <td>0</td>\n",
       "      <td>0</td>\n",
       "      <td>0</td>\n",
       "      <td>0</td>\n",
       "      <td>0</td>\n",
       "      <td>0</td>\n",
       "    </tr>\n",
       "    <tr>\n",
       "      <th>2</th>\n",
       "      <td>000113f07ec002fd</td>\n",
       "      <td>Hey man, I'm really not trying to edit war. It...</td>\n",
       "      <td>0</td>\n",
       "      <td>0</td>\n",
       "      <td>0</td>\n",
       "      <td>0</td>\n",
       "      <td>0</td>\n",
       "      <td>0</td>\n",
       "      <td>0</td>\n",
       "    </tr>\n",
       "    <tr>\n",
       "      <th>3</th>\n",
       "      <td>0001b41b1c6bb37e</td>\n",
       "      <td>\"\\nMore\\nI can't make any real suggestions on ...</td>\n",
       "      <td>0</td>\n",
       "      <td>0</td>\n",
       "      <td>0</td>\n",
       "      <td>0</td>\n",
       "      <td>0</td>\n",
       "      <td>0</td>\n",
       "      <td>0</td>\n",
       "    </tr>\n",
       "    <tr>\n",
       "      <th>4</th>\n",
       "      <td>0001d958c54c6e35</td>\n",
       "      <td>You, sir, are my hero. Any chance you remember...</td>\n",
       "      <td>0</td>\n",
       "      <td>0</td>\n",
       "      <td>0</td>\n",
       "      <td>0</td>\n",
       "      <td>0</td>\n",
       "      <td>0</td>\n",
       "      <td>0</td>\n",
       "    </tr>\n",
       "  </tbody>\n",
       "</table>\n",
       "</div>"
      ],
      "text/plain": [
       "                 id                                       comment_text  toxic  \\\n",
       "0  0000997932d777bf  Explanation\\nWhy the edits made under my usern...      0   \n",
       "1  000103f0d9cfb60f  D'aww! He matches this background colour I'm s...      0   \n",
       "2  000113f07ec002fd  Hey man, I'm really not trying to edit war. It...      0   \n",
       "3  0001b41b1c6bb37e  \"\\nMore\\nI can't make any real suggestions on ...      0   \n",
       "4  0001d958c54c6e35  You, sir, are my hero. Any chance you remember...      0   \n",
       "\n",
       "   severe_toxic  obscene  threat  insult  identity_hate  targets  \n",
       "0             0        0       0       0              0        0  \n",
       "1             0        0       0       0              0        0  \n",
       "2             0        0       0       0              0        0  \n",
       "3             0        0       0       0              0        0  \n",
       "4             0        0       0       0              0        0  "
      ]
     },
     "execution_count": 2,
     "metadata": {},
     "output_type": "execute_result"
    }
   ],
   "source": [
    "df_toxic_comments.shape\n",
    "df_toxic_comments['targets'] = (df_toxic_comments[['toxic', 'severe_toxic','obscene','threat','insult','identity_hate']].sum(axis=1)>0).astype(int)\n",
    "df_toxic_comments.head()"
   ]
  },
  {
   "cell_type": "code",
   "execution_count": 3,
   "id": "1481d892",
   "metadata": {
    "execution": {
     "iopub.execute_input": "2021-12-28T17:39:32.386231Z",
     "iopub.status.busy": "2021-12-28T17:39:32.385537Z",
     "iopub.status.idle": "2021-12-28T17:39:32.401535Z",
     "shell.execute_reply": "2021-12-28T17:39:32.402166Z",
     "shell.execute_reply.started": "2021-12-28T17:34:39.698926Z"
    },
    "papermill": {
     "duration": 0.03881,
     "end_time": "2021-12-28T17:39:32.402351",
     "exception": false,
     "start_time": "2021-12-28T17:39:32.363541",
     "status": "completed"
    },
    "tags": []
   },
   "outputs": [
    {
     "data": {
      "text/html": [
       "<div>\n",
       "<style scoped>\n",
       "    .dataframe tbody tr th:only-of-type {\n",
       "        vertical-align: middle;\n",
       "    }\n",
       "\n",
       "    .dataframe tbody tr th {\n",
       "        vertical-align: top;\n",
       "    }\n",
       "\n",
       "    .dataframe thead th {\n",
       "        text-align: right;\n",
       "    }\n",
       "</style>\n",
       "<table border=\"1\" class=\"dataframe\">\n",
       "  <thead>\n",
       "    <tr style=\"text-align: right;\">\n",
       "      <th></th>\n",
       "      <th>id</th>\n",
       "      <th>comment_text</th>\n",
       "      <th>targets</th>\n",
       "    </tr>\n",
       "  </thead>\n",
       "  <tbody>\n",
       "    <tr>\n",
       "      <th>0</th>\n",
       "      <td>0000997932d777bf</td>\n",
       "      <td>Explanation\\nWhy the edits made under my usern...</td>\n",
       "      <td>0</td>\n",
       "    </tr>\n",
       "    <tr>\n",
       "      <th>1</th>\n",
       "      <td>000103f0d9cfb60f</td>\n",
       "      <td>D'aww! He matches this background colour I'm s...</td>\n",
       "      <td>0</td>\n",
       "    </tr>\n",
       "    <tr>\n",
       "      <th>2</th>\n",
       "      <td>000113f07ec002fd</td>\n",
       "      <td>Hey man, I'm really not trying to edit war. It...</td>\n",
       "      <td>0</td>\n",
       "    </tr>\n",
       "    <tr>\n",
       "      <th>3</th>\n",
       "      <td>0001b41b1c6bb37e</td>\n",
       "      <td>\"\\nMore\\nI can't make any real suggestions on ...</td>\n",
       "      <td>0</td>\n",
       "    </tr>\n",
       "    <tr>\n",
       "      <th>4</th>\n",
       "      <td>0001d958c54c6e35</td>\n",
       "      <td>You, sir, are my hero. Any chance you remember...</td>\n",
       "      <td>0</td>\n",
       "    </tr>\n",
       "  </tbody>\n",
       "</table>\n",
       "</div>"
      ],
      "text/plain": [
       "                 id                                       comment_text  \\\n",
       "0  0000997932d777bf  Explanation\\nWhy the edits made under my usern...   \n",
       "1  000103f0d9cfb60f  D'aww! He matches this background colour I'm s...   \n",
       "2  000113f07ec002fd  Hey man, I'm really not trying to edit war. It...   \n",
       "3  0001b41b1c6bb37e  \"\\nMore\\nI can't make any real suggestions on ...   \n",
       "4  0001d958c54c6e35  You, sir, are my hero. Any chance you remember...   \n",
       "\n",
       "   targets  \n",
       "0        0  \n",
       "1        0  \n",
       "2        0  \n",
       "3        0  \n",
       "4        0  "
      ]
     },
     "execution_count": 3,
     "metadata": {},
     "output_type": "execute_result"
    }
   ],
   "source": [
    "del df_toxic_comments['toxic'], df_toxic_comments['severe_toxic'], df_toxic_comments['obscene'], df_toxic_comments['threat'], df_toxic_comments['insult'], df_toxic_comments['identity_hate']\n",
    "df_toxic_comments.head()"
   ]
  },
  {
   "cell_type": "code",
   "execution_count": 4,
   "id": "1dec2f43",
   "metadata": {
    "execution": {
     "iopub.execute_input": "2021-12-28T17:39:32.445355Z",
     "iopub.status.busy": "2021-12-28T17:39:32.444657Z",
     "iopub.status.idle": "2021-12-28T17:39:32.969831Z",
     "shell.execute_reply": "2021-12-28T17:39:32.969240Z",
     "shell.execute_reply.started": "2021-12-28T17:34:41.133051Z"
    },
    "papermill": {
     "duration": 0.547766,
     "end_time": "2021-12-28T17:39:32.969990",
     "exception": false,
     "start_time": "2021-12-28T17:39:32.422224",
     "status": "completed"
    },
    "tags": []
   },
   "outputs": [
    {
     "data": {
      "text/html": [
       "<div>\n",
       "<style scoped>\n",
       "    .dataframe tbody tr th:only-of-type {\n",
       "        vertical-align: middle;\n",
       "    }\n",
       "\n",
       "    .dataframe tbody tr th {\n",
       "        vertical-align: top;\n",
       "    }\n",
       "\n",
       "    .dataframe thead th {\n",
       "        text-align: right;\n",
       "    }\n",
       "</style>\n",
       "<table border=\"1\" class=\"dataframe\">\n",
       "  <thead>\n",
       "    <tr style=\"text-align: right;\">\n",
       "      <th></th>\n",
       "      <th>worker</th>\n",
       "      <th>less_toxic</th>\n",
       "      <th>more_toxic</th>\n",
       "    </tr>\n",
       "  </thead>\n",
       "  <tbody>\n",
       "    <tr>\n",
       "      <th>0</th>\n",
       "      <td>313</td>\n",
       "      <td>This article sucks \\n\\nwoo woo wooooooo</td>\n",
       "      <td>WHAT!!!!!!!!?!?!!?!?!!?!?!?!?!!!!!!!!!!!!!!!!!...</td>\n",
       "    </tr>\n",
       "    <tr>\n",
       "      <th>1</th>\n",
       "      <td>188</td>\n",
       "      <td>\"And yes, people should recognize that but the...</td>\n",
       "      <td>Daphne Guinness \\n\\nTop of the mornin' my fav...</td>\n",
       "    </tr>\n",
       "    <tr>\n",
       "      <th>2</th>\n",
       "      <td>82</td>\n",
       "      <td>Western Media?\\n\\nYup, because every crime in...</td>\n",
       "      <td>\"Atom you don't believe actual photos of mastu...</td>\n",
       "    </tr>\n",
       "    <tr>\n",
       "      <th>3</th>\n",
       "      <td>347</td>\n",
       "      <td>And you removed it! You numbskull! I don't car...</td>\n",
       "      <td>You seem to have sand in your vagina.\\n\\nMight...</td>\n",
       "    </tr>\n",
       "    <tr>\n",
       "      <th>4</th>\n",
       "      <td>539</td>\n",
       "      <td>smelly vagina \\n\\nBluerasberry why don't you ...</td>\n",
       "      <td>hey \\n\\nway to support nazis, you racist</td>\n",
       "    </tr>\n",
       "  </tbody>\n",
       "</table>\n",
       "</div>"
      ],
      "text/plain": [
       "   worker                                         less_toxic  \\\n",
       "0     313            This article sucks \\n\\nwoo woo wooooooo   \n",
       "1     188  \"And yes, people should recognize that but the...   \n",
       "2      82   Western Media?\\n\\nYup, because every crime in...   \n",
       "3     347  And you removed it! You numbskull! I don't car...   \n",
       "4     539   smelly vagina \\n\\nBluerasberry why don't you ...   \n",
       "\n",
       "                                          more_toxic  \n",
       "0  WHAT!!!!!!!!?!?!!?!?!!?!?!?!?!!!!!!!!!!!!!!!!!...  \n",
       "1   Daphne Guinness \\n\\nTop of the mornin' my fav...  \n",
       "2  \"Atom you don't believe actual photos of mastu...  \n",
       "3  You seem to have sand in your vagina.\\n\\nMight...  \n",
       "4           hey \\n\\nway to support nazis, you racist  "
      ]
     },
     "execution_count": 4,
     "metadata": {},
     "output_type": "execute_result"
    }
   ],
   "source": [
    "df_severe_toxic = pd.read_csv('../input/jigsaw-toxic-severity-rating/validation_data.csv')\n",
    "df_severe_toxic.head()"
   ]
  },
  {
   "cell_type": "markdown",
   "id": "ae45a609",
   "metadata": {
    "papermill": {
     "duration": 0.019795,
     "end_time": "2021-12-28T17:39:33.010010",
     "exception": false,
     "start_time": "2021-12-28T17:39:32.990215",
     "status": "completed"
    },
    "tags": []
   },
   "source": [
    "# Data preprocessing"
   ]
  },
  {
   "cell_type": "code",
   "execution_count": 5,
   "id": "96f3f274",
   "metadata": {
    "execution": {
     "iopub.execute_input": "2021-12-28T17:39:33.059224Z",
     "iopub.status.busy": "2021-12-28T17:39:33.058490Z",
     "iopub.status.idle": "2021-12-28T17:39:33.117239Z",
     "shell.execute_reply": "2021-12-28T17:39:33.116668Z",
     "shell.execute_reply.started": "2021-12-28T17:34:47.757019Z"
    },
    "papermill": {
     "duration": 0.086454,
     "end_time": "2021-12-28T17:39:33.117410",
     "exception": false,
     "start_time": "2021-12-28T17:39:33.030956",
     "status": "completed"
    },
    "tags": []
   },
   "outputs": [
    {
     "data": {
      "text/plain": [
       "(219787, 2)"
      ]
     },
     "execution_count": 5,
     "metadata": {},
     "output_type": "execute_result"
    }
   ],
   "source": [
    "_1 = pd.DataFrame()\n",
    "_1['comments'] = df_toxic_comments['comment_text']\n",
    "_1['targets'] = df_toxic_comments['targets']\n",
    "\n",
    "_2 = pd.DataFrame()\n",
    "_2['comments'] = df_severe_toxic['more_toxic']\n",
    "_2['targets'] = 1\n",
    "\n",
    "_3 = pd.DataFrame()\n",
    "_3['comments'] = df_severe_toxic['less_toxic']\n",
    "_3['targets'] = 1\n",
    "\n",
    "_1 = _1.append(_2, ignore_index=True)\n",
    "_1 = _1.append(_3, ignore_index=True)\n",
    "raw_data = _1\n",
    "raw_data.shape"
   ]
  },
  {
   "cell_type": "code",
   "execution_count": 6,
   "id": "cde38fcc",
   "metadata": {
    "execution": {
     "iopub.execute_input": "2021-12-28T17:39:33.168648Z",
     "iopub.status.busy": "2021-12-28T17:39:33.161303Z",
     "iopub.status.idle": "2021-12-28T17:39:33.172951Z",
     "shell.execute_reply": "2021-12-28T17:39:33.172343Z",
     "shell.execute_reply.started": "2021-12-28T17:34:55.664713Z"
    },
    "papermill": {
     "duration": 0.035293,
     "end_time": "2021-12-28T17:39:33.173139",
     "exception": false,
     "start_time": "2021-12-28T17:39:33.137846",
     "status": "completed"
    },
    "tags": []
   },
   "outputs": [
    {
     "data": {
      "text/html": [
       "<div>\n",
       "<style scoped>\n",
       "    .dataframe tbody tr th:only-of-type {\n",
       "        vertical-align: middle;\n",
       "    }\n",
       "\n",
       "    .dataframe tbody tr th {\n",
       "        vertical-align: top;\n",
       "    }\n",
       "\n",
       "    .dataframe thead th {\n",
       "        text-align: right;\n",
       "    }\n",
       "</style>\n",
       "<table border=\"1\" class=\"dataframe\">\n",
       "  <thead>\n",
       "    <tr style=\"text-align: right;\">\n",
       "      <th></th>\n",
       "      <th>comments</th>\n",
       "      <th>targets</th>\n",
       "    </tr>\n",
       "  </thead>\n",
       "  <tbody>\n",
       "    <tr>\n",
       "      <th>0</th>\n",
       "      <td>Explanation\\nWhy the edits made under my usern...</td>\n",
       "      <td>0</td>\n",
       "    </tr>\n",
       "    <tr>\n",
       "      <th>1</th>\n",
       "      <td>D'aww! He matches this background colour I'm s...</td>\n",
       "      <td>0</td>\n",
       "    </tr>\n",
       "    <tr>\n",
       "      <th>2</th>\n",
       "      <td>Hey man, I'm really not trying to edit war. It...</td>\n",
       "      <td>0</td>\n",
       "    </tr>\n",
       "    <tr>\n",
       "      <th>3</th>\n",
       "      <td>\"\\nMore\\nI can't make any real suggestions on ...</td>\n",
       "      <td>0</td>\n",
       "    </tr>\n",
       "    <tr>\n",
       "      <th>4</th>\n",
       "      <td>You, sir, are my hero. Any chance you remember...</td>\n",
       "      <td>0</td>\n",
       "    </tr>\n",
       "  </tbody>\n",
       "</table>\n",
       "</div>"
      ],
      "text/plain": [
       "                                            comments  targets\n",
       "0  Explanation\\nWhy the edits made under my usern...        0\n",
       "1  D'aww! He matches this background colour I'm s...        0\n",
       "2  Hey man, I'm really not trying to edit war. It...        0\n",
       "3  \"\\nMore\\nI can't make any real suggestions on ...        0\n",
       "4  You, sir, are my hero. Any chance you remember...        0"
      ]
     },
     "execution_count": 6,
     "metadata": {},
     "output_type": "execute_result"
    }
   ],
   "source": [
    "raw_data.head()"
   ]
  },
  {
   "cell_type": "code",
   "execution_count": 7,
   "id": "043fcfc4",
   "metadata": {
    "execution": {
     "iopub.execute_input": "2021-12-28T17:39:33.237373Z",
     "iopub.status.busy": "2021-12-28T17:39:33.236679Z",
     "iopub.status.idle": "2021-12-28T17:39:33.539279Z",
     "shell.execute_reply": "2021-12-28T17:39:33.539838Z",
     "shell.execute_reply.started": "2021-12-28T17:34:56.441303Z"
    },
    "papermill": {
     "duration": 0.345407,
     "end_time": "2021-12-28T17:39:33.540047",
     "exception": false,
     "start_time": "2021-12-28T17:39:33.194640",
     "status": "completed"
    },
    "tags": []
   },
   "outputs": [
    {
     "data": {
      "text/html": [
       "<div>\n",
       "<style scoped>\n",
       "    .dataframe tbody tr th:only-of-type {\n",
       "        vertical-align: middle;\n",
       "    }\n",
       "\n",
       "    .dataframe tbody tr th {\n",
       "        vertical-align: top;\n",
       "    }\n",
       "\n",
       "    .dataframe thead th {\n",
       "        text-align: right;\n",
       "    }\n",
       "</style>\n",
       "<table border=\"1\" class=\"dataframe\">\n",
       "  <thead>\n",
       "    <tr style=\"text-align: right;\">\n",
       "      <th></th>\n",
       "      <th>comments</th>\n",
       "      <th>targets</th>\n",
       "    </tr>\n",
       "  </thead>\n",
       "  <tbody>\n",
       "    <tr>\n",
       "      <th>0</th>\n",
       "      <td>Explanation\\nWhy the edits made under my usern...</td>\n",
       "      <td>0</td>\n",
       "    </tr>\n",
       "    <tr>\n",
       "      <th>1</th>\n",
       "      <td>D'aww! He matches this background colour I'm s...</td>\n",
       "      <td>0</td>\n",
       "    </tr>\n",
       "    <tr>\n",
       "      <th>2</th>\n",
       "      <td>Hey man, I'm really not trying to edit war. It...</td>\n",
       "      <td>0</td>\n",
       "    </tr>\n",
       "    <tr>\n",
       "      <th>3</th>\n",
       "      <td>\"\\nMore\\nI can't make any real suggestions on ...</td>\n",
       "      <td>0</td>\n",
       "    </tr>\n",
       "    <tr>\n",
       "      <th>4</th>\n",
       "      <td>You, sir, are my hero. Any chance you remember...</td>\n",
       "      <td>0</td>\n",
       "    </tr>\n",
       "  </tbody>\n",
       "</table>\n",
       "</div>"
      ],
      "text/plain": [
       "                                            comments  targets\n",
       "0  Explanation\\nWhy the edits made under my usern...        0\n",
       "1  D'aww! He matches this background colour I'm s...        0\n",
       "2  Hey man, I'm really not trying to edit war. It...        0\n",
       "3  \"\\nMore\\nI can't make any real suggestions on ...        0\n",
       "4  You, sir, are my hero. Any chance you remember...        0"
      ]
     },
     "execution_count": 7,
     "metadata": {},
     "output_type": "execute_result"
    }
   ],
   "source": [
    "raw_data.drop_duplicates(subset='comments', keep='first', inplace=True)\n",
    "raw_data.head()"
   ]
  },
  {
   "cell_type": "code",
   "execution_count": 8,
   "id": "ec537f08",
   "metadata": {
    "execution": {
     "iopub.execute_input": "2021-12-28T17:39:33.590477Z",
     "iopub.status.busy": "2021-12-28T17:39:33.589767Z",
     "iopub.status.idle": "2021-12-28T17:39:33.594487Z",
     "shell.execute_reply": "2021-12-28T17:39:33.593799Z",
     "shell.execute_reply.started": "2021-12-28T17:35:00.314105Z"
    },
    "papermill": {
     "duration": 0.033027,
     "end_time": "2021-12-28T17:39:33.594661",
     "exception": false,
     "start_time": "2021-12-28T17:39:33.561634",
     "status": "completed"
    },
    "tags": []
   },
   "outputs": [
    {
     "data": {
      "text/plain": [
       "(166193, 2)"
      ]
     },
     "execution_count": 8,
     "metadata": {},
     "output_type": "execute_result"
    }
   ],
   "source": [
    "raw_data.shape"
   ]
  },
  {
   "cell_type": "code",
   "execution_count": 9,
   "id": "a56ba852",
   "metadata": {
    "execution": {
     "iopub.execute_input": "2021-12-28T17:39:33.644784Z",
     "iopub.status.busy": "2021-12-28T17:39:33.644034Z",
     "iopub.status.idle": "2021-12-28T17:39:33.676666Z",
     "shell.execute_reply": "2021-12-28T17:39:33.675824Z",
     "shell.execute_reply.started": "2021-12-28T17:35:28.955668Z"
    },
    "papermill": {
     "duration": 0.05964,
     "end_time": "2021-12-28T17:39:33.676825",
     "exception": false,
     "start_time": "2021-12-28T17:39:33.617185",
     "status": "completed"
    },
    "tags": []
   },
   "outputs": [
    {
     "data": {
      "text/plain": [
       "22847"
      ]
     },
     "execution_count": 9,
     "metadata": {},
     "output_type": "execute_result"
    }
   ],
   "source": [
    "df = raw_data[(raw_data.targets == 1)]\n",
    "len(df.comments.unique())\n",
    "# gives us the actual counts of labels with 1"
   ]
  },
  {
   "cell_type": "code",
   "execution_count": 10,
   "id": "71fd94fe",
   "metadata": {
    "execution": {
     "iopub.execute_input": "2021-12-28T17:39:33.729812Z",
     "iopub.status.busy": "2021-12-28T17:39:33.729077Z",
     "iopub.status.idle": "2021-12-28T17:39:35.360191Z",
     "shell.execute_reply": "2021-12-28T17:39:35.359607Z",
     "shell.execute_reply.started": "2021-12-28T17:35:34.099059Z"
    },
    "papermill": {
     "duration": 1.660743,
     "end_time": "2021-12-28T17:39:35.360344",
     "exception": false,
     "start_time": "2021-12-28T17:39:33.699601",
     "status": "completed"
    },
    "tags": []
   },
   "outputs": [
    {
     "data": {
      "text/html": [
       "<div>\n",
       "<style scoped>\n",
       "    .dataframe tbody tr th:only-of-type {\n",
       "        vertical-align: middle;\n",
       "    }\n",
       "\n",
       "    .dataframe tbody tr th {\n",
       "        vertical-align: top;\n",
       "    }\n",
       "\n",
       "    .dataframe thead th {\n",
       "        text-align: right;\n",
       "    }\n",
       "</style>\n",
       "<table border=\"1\" class=\"dataframe\">\n",
       "  <thead>\n",
       "    <tr style=\"text-align: right;\">\n",
       "      <th></th>\n",
       "      <th>comments</th>\n",
       "      <th>targets</th>\n",
       "    </tr>\n",
       "  </thead>\n",
       "  <tbody>\n",
       "    <tr>\n",
       "      <th>0</th>\n",
       "      <td>\"I do not understand this sentence: \"\"Several ...</td>\n",
       "      <td>0</td>\n",
       "    </tr>\n",
       "    <tr>\n",
       "      <th>1</th>\n",
       "      <td>\"\\nThanks. I don't really mind the attacks. My...</td>\n",
       "      <td>0</td>\n",
       "    </tr>\n",
       "    <tr>\n",
       "      <th>2</th>\n",
       "      <td>\", 29 October 2007 (UTC)\\n\\nThis is a \"\"spinou...</td>\n",
       "      <td>0</td>\n",
       "    </tr>\n",
       "    <tr>\n",
       "      <th>3</th>\n",
       "      <td>2010 Formula One season</td>\n",
       "      <td>0</td>\n",
       "    </tr>\n",
       "    <tr>\n",
       "      <th>4</th>\n",
       "      <td>\"Welcome!\\n\\n \\n\\nHello, , to Wikipedia! I'm ,...</td>\n",
       "      <td>0</td>\n",
       "    </tr>\n",
       "  </tbody>\n",
       "</table>\n",
       "</div>"
      ],
      "text/plain": [
       "                                            comments  targets\n",
       "0  \"I do not understand this sentence: \"\"Several ...        0\n",
       "1  \"\\nThanks. I don't really mind the attacks. My...        0\n",
       "2  \", 29 October 2007 (UTC)\\n\\nThis is a \"\"spinou...        0\n",
       "3                            2010 Formula One season        0\n",
       "4  \"Welcome!\\n\\n \\n\\nHello, , to Wikipedia! I'm ,...        0"
      ]
     },
     "execution_count": 10,
     "metadata": {},
     "output_type": "execute_result"
    }
   ],
   "source": [
    "from imblearn.under_sampling import RandomUnderSampler\n",
    "X = np.array(raw_data['comments'].values)\n",
    "X = X.reshape(-1,1)\n",
    "Y = np.array(raw_data['targets'].values)\n",
    "rus = RandomUnderSampler(random_state=0)\n",
    "train, target = rus.fit_resample(X,Y)\n",
    "\n",
    "train = train.flatten()\n",
    "final_dataframe = pd.DataFrame()\n",
    "final_dataframe['comments'] = train\n",
    "final_dataframe['targets'] = target\n",
    "\n",
    "final_dataframe.head()"
   ]
  },
  {
   "cell_type": "code",
   "execution_count": 11,
   "id": "f9373122",
   "metadata": {
    "execution": {
     "iopub.execute_input": "2021-12-28T17:39:35.410082Z",
     "iopub.status.busy": "2021-12-28T17:39:35.409020Z",
     "iopub.status.idle": "2021-12-28T17:39:35.419005Z",
     "shell.execute_reply": "2021-12-28T17:39:35.419676Z",
     "shell.execute_reply.started": "2021-12-28T17:35:38.534033Z"
    },
    "papermill": {
     "duration": 0.037261,
     "end_time": "2021-12-28T17:39:35.419860",
     "exception": false,
     "start_time": "2021-12-28T17:39:35.382599",
     "status": "completed"
    },
    "tags": []
   },
   "outputs": [
    {
     "data": {
      "text/plain": [
       "0    22847\n",
       "1    22847\n",
       "Name: targets, dtype: int64"
      ]
     },
     "execution_count": 11,
     "metadata": {},
     "output_type": "execute_result"
    }
   ],
   "source": [
    "final_dataframe.targets.value_counts()"
   ]
  },
  {
   "cell_type": "code",
   "execution_count": 12,
   "id": "04c258a5",
   "metadata": {
    "execution": {
     "iopub.execute_input": "2021-12-28T17:39:35.473157Z",
     "iopub.status.busy": "2021-12-28T17:39:35.472251Z",
     "iopub.status.idle": "2021-12-28T17:39:47.136658Z",
     "shell.execute_reply": "2021-12-28T17:39:47.136025Z",
     "shell.execute_reply.started": "2021-12-28T17:35:43.016718Z"
    },
    "papermill": {
     "duration": 11.69423,
     "end_time": "2021-12-28T17:39:47.136836",
     "exception": false,
     "start_time": "2021-12-28T17:39:35.442606",
     "status": "completed"
    },
    "tags": []
   },
   "outputs": [],
   "source": [
    "import re\n",
    "import string\n",
    "import nltk\n",
    "#nltk.download('stopwords')\n",
    "#nltk.download('wordnet')\n",
    "from nltk.corpus import stopwords, wordnet\n",
    "from nltk.stem import WordNetLemmatizer\n",
    "from nltk.tokenize import word_tokenize\n",
    "from nltk.probability import FreqDist\n",
    "from spacy.lang.en import English\n",
    "from spacy.lang.en.stop_words import STOP_WORDS\n",
    "lemma = WordNetLemmatizer()\n",
    "\n",
    "from keras.preprocessing.text import Tokenizer\n",
    "from keras.preprocessing.sequence import pad_sequences\n",
    "from keras.models import Sequential\n",
    "from keras.layers import Dense, Bidirectional, LSTM, Dropout, BatchNormalization\n",
    "from keras.layers.embeddings import Embedding\n",
    "\n",
    "from tqdm import tqdm"
   ]
  },
  {
   "cell_type": "code",
   "execution_count": 13,
   "id": "2554709b",
   "metadata": {
    "execution": {
     "iopub.execute_input": "2021-12-28T17:39:47.187424Z",
     "iopub.status.busy": "2021-12-28T17:39:47.186343Z",
     "iopub.status.idle": "2021-12-28T17:39:47.193891Z",
     "shell.execute_reply": "2021-12-28T17:39:47.194486Z",
     "shell.execute_reply.started": "2021-12-28T17:35:52.327092Z"
    },
    "papermill": {
     "duration": 0.034405,
     "end_time": "2021-12-28T17:39:47.194695",
     "exception": false,
     "start_time": "2021-12-28T17:39:47.160290",
     "status": "completed"
    },
    "tags": []
   },
   "outputs": [],
   "source": [
    "def remove_url(text):\n",
    "    url = re.compile(r'https?://\\S+|www\\.\\S+')\n",
    "    return url.sub(r'', text)\n",
    "\n",
    "def remove_emoji(text):\n",
    "    emoji_pattern = re.compile(\n",
    "        '['\n",
    "        u'\\U0001F600-\\U0001F64F'  # emoticons\n",
    "        u'\\U0001F300-\\U0001F5FF'  # symbols & pictographs\n",
    "        u'\\U0001F680-\\U0001F6FF'  # transport & map symbols\n",
    "        u'\\U0001F1E0-\\U0001F1FF'  # flags (iOS)\n",
    "        u'\\U00002702-\\U000027B0'\n",
    "        u'\\U000024C2-\\U0001F251'\n",
    "        ']+',\n",
    "        flags=re.UNICODE\n",
    "    )\n",
    "    return emoji_pattern.sub(r'',text)\n",
    "\n",
    "def remove_html(text):\n",
    "    html = re.compile(r'<.*?>|&([a-z0-9]+|#[0-9]{1,6}|#x[0-9a-f]{1,6});')\n",
    "    return re.sub(html, '', text)\n",
    "\n",
    "def remove_punct(text):\n",
    "    table = str.maketrans('', '', string.punctuation)\n",
    "    return text.translate(table)"
   ]
  },
  {
   "cell_type": "code",
   "execution_count": 14,
   "id": "4f2b7d8d",
   "metadata": {
    "execution": {
     "iopub.execute_input": "2021-12-28T17:39:47.246160Z",
     "iopub.status.busy": "2021-12-28T17:39:47.245091Z",
     "iopub.status.idle": "2021-12-28T17:39:52.389628Z",
     "shell.execute_reply": "2021-12-28T17:39:52.388945Z",
     "shell.execute_reply.started": "2021-12-28T17:35:52.336432Z"
    },
    "papermill": {
     "duration": 5.172069,
     "end_time": "2021-12-28T17:39:52.389788",
     "exception": false,
     "start_time": "2021-12-28T17:39:47.217719",
     "status": "completed"
    },
    "tags": []
   },
   "outputs": [
    {
     "name": "stdout",
     "output_type": "stream",
     "text": [
      "Applying preprocessing functions on final dataframe\n"
     ]
    },
    {
     "name": "stderr",
     "output_type": "stream",
     "text": [
      "100%|██████████| 45694/45694 [00:01<00:00, 41807.55it/s]\n",
      "100%|██████████| 45694/45694 [00:01<00:00, 28651.47it/s]\n",
      "100%|██████████| 45694/45694 [00:01<00:00, 38957.29it/s]\n",
      "100%|██████████| 45694/45694 [00:01<00:00, 37767.00it/s]\n"
     ]
    },
    {
     "data": {
      "text/html": [
       "<div>\n",
       "<style scoped>\n",
       "    .dataframe tbody tr th:only-of-type {\n",
       "        vertical-align: middle;\n",
       "    }\n",
       "\n",
       "    .dataframe tbody tr th {\n",
       "        vertical-align: top;\n",
       "    }\n",
       "\n",
       "    .dataframe thead th {\n",
       "        text-align: right;\n",
       "    }\n",
       "</style>\n",
       "<table border=\"1\" class=\"dataframe\">\n",
       "  <thead>\n",
       "    <tr style=\"text-align: right;\">\n",
       "      <th></th>\n",
       "      <th>comments</th>\n",
       "      <th>targets</th>\n",
       "    </tr>\n",
       "  </thead>\n",
       "  <tbody>\n",
       "    <tr>\n",
       "      <th>0</th>\n",
       "      <td>I do not understand this sentence Several auth...</td>\n",
       "      <td>0</td>\n",
       "    </tr>\n",
       "    <tr>\n",
       "      <th>1</th>\n",
       "      <td>\\nThanks I dont really mind the attacks My nei...</td>\n",
       "      <td>0</td>\n",
       "    </tr>\n",
       "    <tr>\n",
       "      <th>2</th>\n",
       "      <td>29 October 2007 UTC\\n\\nThis is a spinout arti...</td>\n",
       "      <td>0</td>\n",
       "    </tr>\n",
       "    <tr>\n",
       "      <th>3</th>\n",
       "      <td>2010 Formula One season</td>\n",
       "      <td>0</td>\n",
       "    </tr>\n",
       "    <tr>\n",
       "      <th>4</th>\n",
       "      <td>Welcome\\n\\n \\n\\nHello  to Wikipedia Im  one of...</td>\n",
       "      <td>0</td>\n",
       "    </tr>\n",
       "  </tbody>\n",
       "</table>\n",
       "</div>"
      ],
      "text/plain": [
       "                                            comments  targets\n",
       "0  I do not understand this sentence Several auth...        0\n",
       "1  \\nThanks I dont really mind the attacks My nei...        0\n",
       "2   29 October 2007 UTC\\n\\nThis is a spinout arti...        0\n",
       "3                            2010 Formula One season        0\n",
       "4  Welcome\\n\\n \\n\\nHello  to Wikipedia Im  one of...        0"
      ]
     },
     "execution_count": 14,
     "metadata": {},
     "output_type": "execute_result"
    }
   ],
   "source": [
    "print('Applying preprocessing functions on final dataframe')\n",
    "final_dataframe['comments'] = [remove_url(final_dataframe.comments[i]) for i in tqdm(range(final_dataframe.shape[0]))]\n",
    "final_dataframe['comments'] = [remove_emoji(final_dataframe.comments[i]) for i in tqdm(range(final_dataframe.shape[0]))]\n",
    "final_dataframe['comments'] = [remove_html(final_dataframe.comments[i]) for i in tqdm(range(final_dataframe.shape[0]))]\n",
    "final_dataframe['comments'] = [remove_punct(final_dataframe.comments[i]) for i in tqdm(range(final_dataframe.shape[0]))]\n",
    "final_dataframe.head()"
   ]
  },
  {
   "cell_type": "code",
   "execution_count": 15,
   "id": "1e4df300",
   "metadata": {
    "execution": {
     "iopub.execute_input": "2021-12-28T17:39:52.486268Z",
     "iopub.status.busy": "2021-12-28T17:39:52.485319Z",
     "iopub.status.idle": "2021-12-28T17:40:22.791646Z",
     "shell.execute_reply": "2021-12-28T17:40:22.790842Z",
     "shell.execute_reply.started": "2021-12-28T17:33:26.240269Z"
    },
    "papermill": {
     "duration": 30.355984,
     "end_time": "2021-12-28T17:40:22.791813",
     "exception": false,
     "start_time": "2021-12-28T17:39:52.435829",
     "status": "completed"
    },
    "tags": []
   },
   "outputs": [
    {
     "name": "stderr",
     "output_type": "stream",
     "text": [
      "100%|██████████| 45694/45694 [00:30<00:00, 1517.42it/s]\n"
     ]
    },
    {
     "data": {
      "text/html": [
       "<div>\n",
       "<style scoped>\n",
       "    .dataframe tbody tr th:only-of-type {\n",
       "        vertical-align: middle;\n",
       "    }\n",
       "\n",
       "    .dataframe tbody tr th {\n",
       "        vertical-align: top;\n",
       "    }\n",
       "\n",
       "    .dataframe thead th {\n",
       "        text-align: right;\n",
       "    }\n",
       "</style>\n",
       "<table border=\"1\" class=\"dataframe\">\n",
       "  <thead>\n",
       "    <tr style=\"text-align: right;\">\n",
       "      <th></th>\n",
       "      <th>comments</th>\n",
       "      <th>targets</th>\n",
       "    </tr>\n",
       "  </thead>\n",
       "  <tbody>\n",
       "    <tr>\n",
       "      <th>0</th>\n",
       "      <td>[I, do, not, understand, this, sentence, Sever...</td>\n",
       "      <td>0</td>\n",
       "    </tr>\n",
       "    <tr>\n",
       "      <th>1</th>\n",
       "      <td>[Thanks, I, dont, really, mind, the, attacks, ...</td>\n",
       "      <td>0</td>\n",
       "    </tr>\n",
       "    <tr>\n",
       "      <th>2</th>\n",
       "      <td>[29, October, 2007, UTC, This, is, a, spinout,...</td>\n",
       "      <td>0</td>\n",
       "    </tr>\n",
       "    <tr>\n",
       "      <th>3</th>\n",
       "      <td>[2010, Formula, One, season]</td>\n",
       "      <td>0</td>\n",
       "    </tr>\n",
       "    <tr>\n",
       "      <th>4</th>\n",
       "      <td>[Welcome, Hello, to, Wikipedia, Im, one, of, t...</td>\n",
       "      <td>0</td>\n",
       "    </tr>\n",
       "  </tbody>\n",
       "</table>\n",
       "</div>"
      ],
      "text/plain": [
       "                                            comments  targets\n",
       "0  [I, do, not, understand, this, sentence, Sever...        0\n",
       "1  [Thanks, I, dont, really, mind, the, attacks, ...        0\n",
       "2  [29, October, 2007, UTC, This, is, a, spinout,...        0\n",
       "3                       [2010, Formula, One, season]        0\n",
       "4  [Welcome, Hello, to, Wikipedia, Im, one, of, t...        0"
      ]
     },
     "execution_count": 15,
     "metadata": {},
     "output_type": "execute_result"
    }
   ],
   "source": [
    "final_dataframe['comments'] = [word_tokenize(final_dataframe.comments[i]) for i in tqdm(range(final_dataframe.shape[0]))]\n",
    "final_dataframe.head()"
   ]
  },
  {
   "cell_type": "code",
   "execution_count": 16,
   "id": "a429d8c3",
   "metadata": {
    "execution": {
     "iopub.execute_input": "2021-12-28T17:40:23.053693Z",
     "iopub.status.busy": "2021-12-28T17:40:23.052952Z",
     "iopub.status.idle": "2021-12-28T17:47:57.302717Z",
     "shell.execute_reply": "2021-12-28T17:47:57.303287Z"
    },
    "papermill": {
     "duration": 454.383237,
     "end_time": "2021-12-28T17:47:57.303498",
     "exception": false,
     "start_time": "2021-12-28T17:40:22.920261",
     "status": "completed"
    },
    "tags": []
   },
   "outputs": [
    {
     "data": {
      "text/html": [
       "<div>\n",
       "<style scoped>\n",
       "    .dataframe tbody tr th:only-of-type {\n",
       "        vertical-align: middle;\n",
       "    }\n",
       "\n",
       "    .dataframe tbody tr th {\n",
       "        vertical-align: top;\n",
       "    }\n",
       "\n",
       "    .dataframe thead th {\n",
       "        text-align: right;\n",
       "    }\n",
       "</style>\n",
       "<table border=\"1\" class=\"dataframe\">\n",
       "  <thead>\n",
       "    <tr style=\"text-align: right;\">\n",
       "      <th></th>\n",
       "      <th>comments</th>\n",
       "      <th>targets</th>\n",
       "    </tr>\n",
       "  </thead>\n",
       "  <tbody>\n",
       "    <tr>\n",
       "      <th>0</th>\n",
       "      <td>[understand, sentence, several, authors, criti...</td>\n",
       "      <td>0</td>\n",
       "    </tr>\n",
       "    <tr>\n",
       "      <th>1</th>\n",
       "      <td>[thanks, dont, really, mind, attacks, neighbor...</td>\n",
       "      <td>0</td>\n",
       "    </tr>\n",
       "    <tr>\n",
       "      <th>2</th>\n",
       "      <td>[29, october, 2007, utc, spinout, article, the...</td>\n",
       "      <td>0</td>\n",
       "    </tr>\n",
       "    <tr>\n",
       "      <th>3</th>\n",
       "      <td>[2010, formula, one, season]</td>\n",
       "      <td>0</td>\n",
       "    </tr>\n",
       "    <tr>\n",
       "      <th>4</th>\n",
       "      <td>[welcome, hello, wikipedia, im, one, thousands...</td>\n",
       "      <td>0</td>\n",
       "    </tr>\n",
       "  </tbody>\n",
       "</table>\n",
       "</div>"
      ],
      "text/plain": [
       "                                            comments  targets\n",
       "0  [understand, sentence, several, authors, criti...        0\n",
       "1  [thanks, dont, really, mind, attacks, neighbor...        0\n",
       "2  [29, october, 2007, utc, spinout, article, the...        0\n",
       "3                       [2010, formula, one, season]        0\n",
       "4  [welcome, hello, wikipedia, im, one, thousands...        0"
      ]
     },
     "execution_count": 16,
     "metadata": {},
     "output_type": "execute_result"
    }
   ],
   "source": [
    "# Converting the text to lowercase\n",
    "final_dataframe['comments'] = final_dataframe['comments'].apply(lambda x:[word.lower() for word in x])\n",
    "\n",
    "# removing stop words\n",
    "final_dataframe['comments'] = final_dataframe['comments'].apply(lambda x:[word for word in x if word not in set(stopwords.words('english'))])\n",
    "final_dataframe.head()"
   ]
  },
  {
   "cell_type": "code",
   "execution_count": 17,
   "id": "57e1a6f0",
   "metadata": {
    "execution": {
     "iopub.execute_input": "2021-12-28T17:47:57.570285Z",
     "iopub.status.busy": "2021-12-28T17:47:57.569596Z",
     "iopub.status.idle": "2021-12-28T17:47:57.866778Z",
     "shell.execute_reply": "2021-12-28T17:47:57.866216Z",
     "shell.execute_reply.started": "2021-12-28T17:15:21.612324Z"
    },
    "papermill": {
     "duration": 0.434059,
     "end_time": "2021-12-28T17:47:57.866939",
     "exception": false,
     "start_time": "2021-12-28T17:47:57.432880",
     "status": "completed"
    },
    "tags": []
   },
   "outputs": [
    {
     "data": {
      "text/html": [
       "<div>\n",
       "<style scoped>\n",
       "    .dataframe tbody tr th:only-of-type {\n",
       "        vertical-align: middle;\n",
       "    }\n",
       "\n",
       "    .dataframe tbody tr th {\n",
       "        vertical-align: top;\n",
       "    }\n",
       "\n",
       "    .dataframe thead th {\n",
       "        text-align: right;\n",
       "    }\n",
       "</style>\n",
       "<table border=\"1\" class=\"dataframe\">\n",
       "  <thead>\n",
       "    <tr style=\"text-align: right;\">\n",
       "      <th></th>\n",
       "      <th>comments</th>\n",
       "      <th>targets</th>\n",
       "    </tr>\n",
       "  </thead>\n",
       "  <tbody>\n",
       "    <tr>\n",
       "      <th>0</th>\n",
       "      <td>understand sentence several authors criticised...</td>\n",
       "      <td>0</td>\n",
       "    </tr>\n",
       "    <tr>\n",
       "      <th>1</th>\n",
       "      <td>thanks dont really mind attacks neighbor small...</td>\n",
       "      <td>0</td>\n",
       "    </tr>\n",
       "    <tr>\n",
       "      <th>2</th>\n",
       "      <td>29 october 2007 utc spinout article therefore ...</td>\n",
       "      <td>0</td>\n",
       "    </tr>\n",
       "    <tr>\n",
       "      <th>3</th>\n",
       "      <td>2010 formula one season</td>\n",
       "      <td>0</td>\n",
       "    </tr>\n",
       "    <tr>\n",
       "      <th>4</th>\n",
       "      <td>welcome hello wikipedia im one thousands edito...</td>\n",
       "      <td>0</td>\n",
       "    </tr>\n",
       "  </tbody>\n",
       "</table>\n",
       "</div>"
      ],
      "text/plain": [
       "                                            comments  targets\n",
       "0  understand sentence several authors criticised...        0\n",
       "1  thanks dont really mind attacks neighbor small...        0\n",
       "2  29 october 2007 utc spinout article therefore ...        0\n",
       "3                            2010 formula one season        0\n",
       "4  welcome hello wikipedia im one thousands edito...        0"
      ]
     },
     "execution_count": 17,
     "metadata": {},
     "output_type": "execute_result"
    }
   ],
   "source": [
    "final_dataframe['comments'] = [' '.join(map(str,l)) for l in final_dataframe['comments']]\n",
    "final_dataframe.head()"
   ]
  },
  {
   "cell_type": "code",
   "execution_count": 18,
   "id": "0216188f",
   "metadata": {
    "execution": {
     "iopub.execute_input": "2021-12-28T17:47:58.127696Z",
     "iopub.status.busy": "2021-12-28T17:47:58.126679Z",
     "iopub.status.idle": "2021-12-28T17:47:58.565374Z",
     "shell.execute_reply": "2021-12-28T17:47:58.564288Z",
     "shell.execute_reply.started": "2021-12-28T17:15:22.922974Z"
    },
    "papermill": {
     "duration": 0.571467,
     "end_time": "2021-12-28T17:47:58.565638",
     "exception": false,
     "start_time": "2021-12-28T17:47:57.994171",
     "status": "completed"
    },
    "tags": []
   },
   "outputs": [
    {
     "name": "stdout",
     "output_type": "stream",
     "text": [
      "done\n"
     ]
    }
   ],
   "source": [
    "final_dataframe.to_csv('/kaggle/working/final_data.csv', index=False)\n",
    "print('done')"
   ]
  }
 ],
 "metadata": {
  "kernelspec": {
   "display_name": "Python 3",
   "language": "python",
   "name": "python3"
  },
  "language_info": {
   "codemirror_mode": {
    "name": "ipython",
    "version": 3
   },
   "file_extension": ".py",
   "mimetype": "text/x-python",
   "name": "python",
   "nbconvert_exporter": "python",
   "pygments_lexer": "ipython3",
   "version": "3.7.12"
  },
  "papermill": {
   "default_parameters": {},
   "duration": 523.020338,
   "end_time": "2021-12-28T17:48:01.830425",
   "environment_variables": {},
   "exception": null,
   "input_path": "__notebook__.ipynb",
   "output_path": "__notebook__.ipynb",
   "parameters": {},
   "start_time": "2021-12-28T17:39:18.810087",
   "version": "2.3.3"
  }
 },
 "nbformat": 4,
 "nbformat_minor": 5
}
